{
 "cells": [
  {
   "cell_type": "markdown",
   "id": "6384283a",
   "metadata": {
    "deletable": false,
    "editable": false,
    "id": "c81daeeb"
   },
   "source": [
    "# Исследование надежности заемщиков\n"
   ]
  },
  {
   "cell_type": "markdown",
   "id": "ca2e10da",
   "metadata": {
    "deletable": false,
    "editable": false,
    "id": "827c20bf"
   },
   "source": [
    "Во второй части проекта вы выполните шаги 3 и 4. Их вручную проверит ревьюер.\n",
    "Чтобы вам не пришлось писать код заново для шагов 1 и 2, мы добавили авторские решения в ячейки с кодом. \n",
    "\n"
   ]
  },
  {
   "cell_type": "markdown",
   "id": "224e1924",
   "metadata": {
    "deletable": false,
    "editable": false,
    "id": "744d7639"
   },
   "source": [
    "## Откройте таблицу и изучите общую информацию о данных"
   ]
  },
  {
   "cell_type": "markdown",
   "id": "0a4985cf",
   "metadata": {
    "deletable": false,
    "editable": false,
    "id": "e7a14c31"
   },
   "source": [
    "**Задание 1. Импортируйте библиотеку pandas. Считайте данные из csv-файла в датафрейм и сохраните в переменную `data`. Путь к файлу:**\n",
    "\n",
    "`/datasets/data.csv`"
   ]
  },
  {
   "cell_type": "code",
   "execution_count": 1,
   "id": "6f34c49c",
   "metadata": {
    "deletable": false,
    "id": "7bcf75c9"
   },
   "outputs": [],
   "source": [
    "import pandas as pd\n",
    "\n",
    "try:\n",
    "    data = pd.read_csv('/datasets/data.csv')\n",
    "except:\n",
    "    data = pd.read_csv('https://code.s3.yandex.net/datasets/data.csv')"
   ]
  },
  {
   "cell_type": "markdown",
   "id": "256c8eb8",
   "metadata": {
    "deletable": false,
    "editable": false,
    "id": "b8038fe3"
   },
   "source": [
    "**Задание 2. Выведите первые 20 строчек датафрейма `data` на экран.**"
   ]
  },
  {
   "cell_type": "code",
   "execution_count": 2,
   "id": "b8930330",
   "metadata": {
    "deletable": false,
    "id": "2a7cab99",
    "outputId": "1a8f3ef2-d323-4ec2-ddf7-89670b5944c4"
   },
   "outputs": [
    {
     "data": {
      "text/html": [
       "<div>\n",
       "<style scoped>\n",
       "    .dataframe tbody tr th:only-of-type {\n",
       "        vertical-align: middle;\n",
       "    }\n",
       "\n",
       "    .dataframe tbody tr th {\n",
       "        vertical-align: top;\n",
       "    }\n",
       "\n",
       "    .dataframe thead th {\n",
       "        text-align: right;\n",
       "    }\n",
       "</style>\n",
       "<table border=\"1\" class=\"dataframe\">\n",
       "  <thead>\n",
       "    <tr style=\"text-align: right;\">\n",
       "      <th></th>\n",
       "      <th>children</th>\n",
       "      <th>days_employed</th>\n",
       "      <th>dob_years</th>\n",
       "      <th>education</th>\n",
       "      <th>education_id</th>\n",
       "      <th>family_status</th>\n",
       "      <th>family_status_id</th>\n",
       "      <th>gender</th>\n",
       "      <th>income_type</th>\n",
       "      <th>debt</th>\n",
       "      <th>total_income</th>\n",
       "      <th>purpose</th>\n",
       "    </tr>\n",
       "  </thead>\n",
       "  <tbody>\n",
       "    <tr>\n",
       "      <th>0</th>\n",
       "      <td>1</td>\n",
       "      <td>-8437.673028</td>\n",
       "      <td>42</td>\n",
       "      <td>высшее</td>\n",
       "      <td>0</td>\n",
       "      <td>женат / замужем</td>\n",
       "      <td>0</td>\n",
       "      <td>F</td>\n",
       "      <td>сотрудник</td>\n",
       "      <td>0</td>\n",
       "      <td>253875.639453</td>\n",
       "      <td>покупка жилья</td>\n",
       "    </tr>\n",
       "    <tr>\n",
       "      <th>1</th>\n",
       "      <td>1</td>\n",
       "      <td>-4024.803754</td>\n",
       "      <td>36</td>\n",
       "      <td>среднее</td>\n",
       "      <td>1</td>\n",
       "      <td>женат / замужем</td>\n",
       "      <td>0</td>\n",
       "      <td>F</td>\n",
       "      <td>сотрудник</td>\n",
       "      <td>0</td>\n",
       "      <td>112080.014102</td>\n",
       "      <td>приобретение автомобиля</td>\n",
       "    </tr>\n",
       "    <tr>\n",
       "      <th>2</th>\n",
       "      <td>0</td>\n",
       "      <td>-5623.422610</td>\n",
       "      <td>33</td>\n",
       "      <td>Среднее</td>\n",
       "      <td>1</td>\n",
       "      <td>женат / замужем</td>\n",
       "      <td>0</td>\n",
       "      <td>M</td>\n",
       "      <td>сотрудник</td>\n",
       "      <td>0</td>\n",
       "      <td>145885.952297</td>\n",
       "      <td>покупка жилья</td>\n",
       "    </tr>\n",
       "    <tr>\n",
       "      <th>3</th>\n",
       "      <td>3</td>\n",
       "      <td>-4124.747207</td>\n",
       "      <td>32</td>\n",
       "      <td>среднее</td>\n",
       "      <td>1</td>\n",
       "      <td>женат / замужем</td>\n",
       "      <td>0</td>\n",
       "      <td>M</td>\n",
       "      <td>сотрудник</td>\n",
       "      <td>0</td>\n",
       "      <td>267628.550329</td>\n",
       "      <td>дополнительное образование</td>\n",
       "    </tr>\n",
       "    <tr>\n",
       "      <th>4</th>\n",
       "      <td>0</td>\n",
       "      <td>340266.072047</td>\n",
       "      <td>53</td>\n",
       "      <td>среднее</td>\n",
       "      <td>1</td>\n",
       "      <td>гражданский брак</td>\n",
       "      <td>1</td>\n",
       "      <td>F</td>\n",
       "      <td>пенсионер</td>\n",
       "      <td>0</td>\n",
       "      <td>158616.077870</td>\n",
       "      <td>сыграть свадьбу</td>\n",
       "    </tr>\n",
       "    <tr>\n",
       "      <th>5</th>\n",
       "      <td>0</td>\n",
       "      <td>-926.185831</td>\n",
       "      <td>27</td>\n",
       "      <td>высшее</td>\n",
       "      <td>0</td>\n",
       "      <td>гражданский брак</td>\n",
       "      <td>1</td>\n",
       "      <td>M</td>\n",
       "      <td>компаньон</td>\n",
       "      <td>0</td>\n",
       "      <td>255763.565419</td>\n",
       "      <td>покупка жилья</td>\n",
       "    </tr>\n",
       "    <tr>\n",
       "      <th>6</th>\n",
       "      <td>0</td>\n",
       "      <td>-2879.202052</td>\n",
       "      <td>43</td>\n",
       "      <td>высшее</td>\n",
       "      <td>0</td>\n",
       "      <td>женат / замужем</td>\n",
       "      <td>0</td>\n",
       "      <td>F</td>\n",
       "      <td>компаньон</td>\n",
       "      <td>0</td>\n",
       "      <td>240525.971920</td>\n",
       "      <td>операции с жильем</td>\n",
       "    </tr>\n",
       "    <tr>\n",
       "      <th>7</th>\n",
       "      <td>0</td>\n",
       "      <td>-152.779569</td>\n",
       "      <td>50</td>\n",
       "      <td>СРЕДНЕЕ</td>\n",
       "      <td>1</td>\n",
       "      <td>женат / замужем</td>\n",
       "      <td>0</td>\n",
       "      <td>M</td>\n",
       "      <td>сотрудник</td>\n",
       "      <td>0</td>\n",
       "      <td>135823.934197</td>\n",
       "      <td>образование</td>\n",
       "    </tr>\n",
       "    <tr>\n",
       "      <th>8</th>\n",
       "      <td>2</td>\n",
       "      <td>-6929.865299</td>\n",
       "      <td>35</td>\n",
       "      <td>ВЫСШЕЕ</td>\n",
       "      <td>0</td>\n",
       "      <td>гражданский брак</td>\n",
       "      <td>1</td>\n",
       "      <td>F</td>\n",
       "      <td>сотрудник</td>\n",
       "      <td>0</td>\n",
       "      <td>95856.832424</td>\n",
       "      <td>на проведение свадьбы</td>\n",
       "    </tr>\n",
       "    <tr>\n",
       "      <th>9</th>\n",
       "      <td>0</td>\n",
       "      <td>-2188.756445</td>\n",
       "      <td>41</td>\n",
       "      <td>среднее</td>\n",
       "      <td>1</td>\n",
       "      <td>женат / замужем</td>\n",
       "      <td>0</td>\n",
       "      <td>M</td>\n",
       "      <td>сотрудник</td>\n",
       "      <td>0</td>\n",
       "      <td>144425.938277</td>\n",
       "      <td>покупка жилья для семьи</td>\n",
       "    </tr>\n",
       "    <tr>\n",
       "      <th>10</th>\n",
       "      <td>2</td>\n",
       "      <td>-4171.483647</td>\n",
       "      <td>36</td>\n",
       "      <td>высшее</td>\n",
       "      <td>0</td>\n",
       "      <td>женат / замужем</td>\n",
       "      <td>0</td>\n",
       "      <td>M</td>\n",
       "      <td>компаньон</td>\n",
       "      <td>0</td>\n",
       "      <td>113943.491460</td>\n",
       "      <td>покупка недвижимости</td>\n",
       "    </tr>\n",
       "    <tr>\n",
       "      <th>11</th>\n",
       "      <td>0</td>\n",
       "      <td>-792.701887</td>\n",
       "      <td>40</td>\n",
       "      <td>среднее</td>\n",
       "      <td>1</td>\n",
       "      <td>женат / замужем</td>\n",
       "      <td>0</td>\n",
       "      <td>F</td>\n",
       "      <td>сотрудник</td>\n",
       "      <td>0</td>\n",
       "      <td>77069.234271</td>\n",
       "      <td>покупка коммерческой недвижимости</td>\n",
       "    </tr>\n",
       "    <tr>\n",
       "      <th>12</th>\n",
       "      <td>0</td>\n",
       "      <td>NaN</td>\n",
       "      <td>65</td>\n",
       "      <td>среднее</td>\n",
       "      <td>1</td>\n",
       "      <td>гражданский брак</td>\n",
       "      <td>1</td>\n",
       "      <td>M</td>\n",
       "      <td>пенсионер</td>\n",
       "      <td>0</td>\n",
       "      <td>NaN</td>\n",
       "      <td>сыграть свадьбу</td>\n",
       "    </tr>\n",
       "    <tr>\n",
       "      <th>13</th>\n",
       "      <td>0</td>\n",
       "      <td>-1846.641941</td>\n",
       "      <td>54</td>\n",
       "      <td>неоконченное высшее</td>\n",
       "      <td>2</td>\n",
       "      <td>женат / замужем</td>\n",
       "      <td>0</td>\n",
       "      <td>F</td>\n",
       "      <td>сотрудник</td>\n",
       "      <td>0</td>\n",
       "      <td>130458.228857</td>\n",
       "      <td>приобретение автомобиля</td>\n",
       "    </tr>\n",
       "    <tr>\n",
       "      <th>14</th>\n",
       "      <td>0</td>\n",
       "      <td>-1844.956182</td>\n",
       "      <td>56</td>\n",
       "      <td>высшее</td>\n",
       "      <td>0</td>\n",
       "      <td>гражданский брак</td>\n",
       "      <td>1</td>\n",
       "      <td>F</td>\n",
       "      <td>компаньон</td>\n",
       "      <td>1</td>\n",
       "      <td>165127.911772</td>\n",
       "      <td>покупка жилой недвижимости</td>\n",
       "    </tr>\n",
       "    <tr>\n",
       "      <th>15</th>\n",
       "      <td>1</td>\n",
       "      <td>-972.364419</td>\n",
       "      <td>26</td>\n",
       "      <td>среднее</td>\n",
       "      <td>1</td>\n",
       "      <td>женат / замужем</td>\n",
       "      <td>0</td>\n",
       "      <td>F</td>\n",
       "      <td>сотрудник</td>\n",
       "      <td>0</td>\n",
       "      <td>116820.904450</td>\n",
       "      <td>строительство собственной недвижимости</td>\n",
       "    </tr>\n",
       "    <tr>\n",
       "      <th>16</th>\n",
       "      <td>0</td>\n",
       "      <td>-1719.934226</td>\n",
       "      <td>35</td>\n",
       "      <td>среднее</td>\n",
       "      <td>1</td>\n",
       "      <td>женат / замужем</td>\n",
       "      <td>0</td>\n",
       "      <td>F</td>\n",
       "      <td>сотрудник</td>\n",
       "      <td>0</td>\n",
       "      <td>289202.704229</td>\n",
       "      <td>недвижимость</td>\n",
       "    </tr>\n",
       "    <tr>\n",
       "      <th>17</th>\n",
       "      <td>0</td>\n",
       "      <td>-2369.999720</td>\n",
       "      <td>33</td>\n",
       "      <td>высшее</td>\n",
       "      <td>0</td>\n",
       "      <td>гражданский брак</td>\n",
       "      <td>1</td>\n",
       "      <td>M</td>\n",
       "      <td>сотрудник</td>\n",
       "      <td>0</td>\n",
       "      <td>90410.586745</td>\n",
       "      <td>строительство недвижимости</td>\n",
       "    </tr>\n",
       "    <tr>\n",
       "      <th>18</th>\n",
       "      <td>0</td>\n",
       "      <td>400281.136913</td>\n",
       "      <td>53</td>\n",
       "      <td>среднее</td>\n",
       "      <td>1</td>\n",
       "      <td>вдовец / вдова</td>\n",
       "      <td>2</td>\n",
       "      <td>F</td>\n",
       "      <td>пенсионер</td>\n",
       "      <td>0</td>\n",
       "      <td>56823.777243</td>\n",
       "      <td>на покупку подержанного автомобиля</td>\n",
       "    </tr>\n",
       "    <tr>\n",
       "      <th>19</th>\n",
       "      <td>0</td>\n",
       "      <td>-10038.818549</td>\n",
       "      <td>48</td>\n",
       "      <td>СРЕДНЕЕ</td>\n",
       "      <td>1</td>\n",
       "      <td>в разводе</td>\n",
       "      <td>3</td>\n",
       "      <td>F</td>\n",
       "      <td>сотрудник</td>\n",
       "      <td>0</td>\n",
       "      <td>242831.107982</td>\n",
       "      <td>на покупку своего автомобиля</td>\n",
       "    </tr>\n",
       "  </tbody>\n",
       "</table>\n",
       "</div>"
      ],
      "text/plain": [
       "    children  days_employed  dob_years            education  education_id  \\\n",
       "0          1   -8437.673028         42               высшее             0   \n",
       "1          1   -4024.803754         36              среднее             1   \n",
       "2          0   -5623.422610         33              Среднее             1   \n",
       "3          3   -4124.747207         32              среднее             1   \n",
       "4          0  340266.072047         53              среднее             1   \n",
       "5          0    -926.185831         27               высшее             0   \n",
       "6          0   -2879.202052         43               высшее             0   \n",
       "7          0    -152.779569         50              СРЕДНЕЕ             1   \n",
       "8          2   -6929.865299         35               ВЫСШЕЕ             0   \n",
       "9          0   -2188.756445         41              среднее             1   \n",
       "10         2   -4171.483647         36               высшее             0   \n",
       "11         0    -792.701887         40              среднее             1   \n",
       "12         0            NaN         65              среднее             1   \n",
       "13         0   -1846.641941         54  неоконченное высшее             2   \n",
       "14         0   -1844.956182         56               высшее             0   \n",
       "15         1    -972.364419         26              среднее             1   \n",
       "16         0   -1719.934226         35              среднее             1   \n",
       "17         0   -2369.999720         33               высшее             0   \n",
       "18         0  400281.136913         53              среднее             1   \n",
       "19         0  -10038.818549         48              СРЕДНЕЕ             1   \n",
       "\n",
       "       family_status  family_status_id gender income_type  debt  \\\n",
       "0    женат / замужем                 0      F   сотрудник     0   \n",
       "1    женат / замужем                 0      F   сотрудник     0   \n",
       "2    женат / замужем                 0      M   сотрудник     0   \n",
       "3    женат / замужем                 0      M   сотрудник     0   \n",
       "4   гражданский брак                 1      F   пенсионер     0   \n",
       "5   гражданский брак                 1      M   компаньон     0   \n",
       "6    женат / замужем                 0      F   компаньон     0   \n",
       "7    женат / замужем                 0      M   сотрудник     0   \n",
       "8   гражданский брак                 1      F   сотрудник     0   \n",
       "9    женат / замужем                 0      M   сотрудник     0   \n",
       "10   женат / замужем                 0      M   компаньон     0   \n",
       "11   женат / замужем                 0      F   сотрудник     0   \n",
       "12  гражданский брак                 1      M   пенсионер     0   \n",
       "13   женат / замужем                 0      F   сотрудник     0   \n",
       "14  гражданский брак                 1      F   компаньон     1   \n",
       "15   женат / замужем                 0      F   сотрудник     0   \n",
       "16   женат / замужем                 0      F   сотрудник     0   \n",
       "17  гражданский брак                 1      M   сотрудник     0   \n",
       "18    вдовец / вдова                 2      F   пенсионер     0   \n",
       "19         в разводе                 3      F   сотрудник     0   \n",
       "\n",
       "     total_income                                 purpose  \n",
       "0   253875.639453                           покупка жилья  \n",
       "1   112080.014102                 приобретение автомобиля  \n",
       "2   145885.952297                           покупка жилья  \n",
       "3   267628.550329              дополнительное образование  \n",
       "4   158616.077870                         сыграть свадьбу  \n",
       "5   255763.565419                           покупка жилья  \n",
       "6   240525.971920                       операции с жильем  \n",
       "7   135823.934197                             образование  \n",
       "8    95856.832424                   на проведение свадьбы  \n",
       "9   144425.938277                 покупка жилья для семьи  \n",
       "10  113943.491460                    покупка недвижимости  \n",
       "11   77069.234271       покупка коммерческой недвижимости  \n",
       "12            NaN                         сыграть свадьбу  \n",
       "13  130458.228857                 приобретение автомобиля  \n",
       "14  165127.911772              покупка жилой недвижимости  \n",
       "15  116820.904450  строительство собственной недвижимости  \n",
       "16  289202.704229                            недвижимость  \n",
       "17   90410.586745              строительство недвижимости  \n",
       "18   56823.777243      на покупку подержанного автомобиля  \n",
       "19  242831.107982            на покупку своего автомобиля  "
      ]
     },
     "execution_count": 2,
     "metadata": {},
     "output_type": "execute_result"
    }
   ],
   "source": [
    "data.head(20)"
   ]
  },
  {
   "cell_type": "markdown",
   "id": "95d384f5",
   "metadata": {
    "deletable": false,
    "editable": false,
    "id": "1c12e233"
   },
   "source": [
    "**Задание 3. Выведите основную информацию о датафрейме с помощью метода `info()`.**"
   ]
  },
  {
   "cell_type": "code",
   "execution_count": 3,
   "id": "ed81adc6",
   "metadata": {
    "deletable": false,
    "id": "2b757bca",
    "outputId": "15376089-8dad-46c9-b520-c05248d43158"
   },
   "outputs": [
    {
     "name": "stdout",
     "output_type": "stream",
     "text": [
      "<class 'pandas.core.frame.DataFrame'>\n",
      "RangeIndex: 21525 entries, 0 to 21524\n",
      "Data columns (total 12 columns):\n",
      " #   Column            Non-Null Count  Dtype  \n",
      "---  ------            --------------  -----  \n",
      " 0   children          21525 non-null  int64  \n",
      " 1   days_employed     19351 non-null  float64\n",
      " 2   dob_years         21525 non-null  int64  \n",
      " 3   education         21525 non-null  object \n",
      " 4   education_id      21525 non-null  int64  \n",
      " 5   family_status     21525 non-null  object \n",
      " 6   family_status_id  21525 non-null  int64  \n",
      " 7   gender            21525 non-null  object \n",
      " 8   income_type       21525 non-null  object \n",
      " 9   debt              21525 non-null  int64  \n",
      " 10  total_income      19351 non-null  float64\n",
      " 11  purpose           21525 non-null  object \n",
      "dtypes: float64(2), int64(5), object(5)\n",
      "memory usage: 2.0+ MB\n"
     ]
    }
   ],
   "source": [
    "data.info()"
   ]
  },
  {
   "cell_type": "markdown",
   "id": "fea5939c",
   "metadata": {
    "deletable": false,
    "editable": false,
    "id": "333ec665"
   },
   "source": [
    "## Предобработка данных"
   ]
  },
  {
   "cell_type": "markdown",
   "id": "a0847aa4",
   "metadata": {
    "deletable": false,
    "editable": false,
    "id": "02d92d53"
   },
   "source": [
    "### Удаление пропусков"
   ]
  },
  {
   "cell_type": "markdown",
   "id": "2e26f6ba",
   "metadata": {
    "deletable": false,
    "editable": false,
    "id": "cd84967c"
   },
   "source": [
    "**Задание 4. Выведите количество пропущенных значений для каждого столбца. Используйте комбинацию двух методов.**"
   ]
  },
  {
   "cell_type": "code",
   "execution_count": 4,
   "id": "47fd4847",
   "metadata": {
    "deletable": false,
    "id": "7f9b2309",
    "outputId": "81f4d817-781c-465c-ed15-91ce4446810d"
   },
   "outputs": [
    {
     "data": {
      "text/plain": [
       "children               0\n",
       "days_employed       2174\n",
       "dob_years              0\n",
       "education              0\n",
       "education_id           0\n",
       "family_status          0\n",
       "family_status_id       0\n",
       "gender                 0\n",
       "income_type            0\n",
       "debt                   0\n",
       "total_income        2174\n",
       "purpose                0\n",
       "dtype: int64"
      ]
     },
     "execution_count": 4,
     "metadata": {},
     "output_type": "execute_result"
    }
   ],
   "source": [
    "data.isna().sum()"
   ]
  },
  {
   "cell_type": "markdown",
   "id": "f93affc3",
   "metadata": {
    "deletable": false,
    "editable": false,
    "id": "db86e27b"
   },
   "source": [
    "**Задание 5. В двух столбцах есть пропущенные значения. Один из них — `days_employed`. Пропуски в этом столбце вы обработаете на следующем этапе. Другой столбец с пропущенными значениями — `total_income` — хранит данные о доходах. На сумму дохода сильнее всего влияет тип занятости, поэтому заполнить пропуски в этом столбце нужно медианным значением по каждому типу из столбца `income_type`. Например, у человека с типом занятости `сотрудник` пропуск в столбце `total_income` должен быть заполнен медианным доходом среди всех записей с тем же типом.**"
   ]
  },
  {
   "cell_type": "code",
   "execution_count": 5,
   "id": "9d419f4e",
   "metadata": {
    "deletable": false,
    "id": "42006a93"
   },
   "outputs": [],
   "source": [
    "for t in data['income_type'].unique():\n",
    "    data.loc[(data['income_type'] == t) & (data['total_income'].isna()), 'total_income'] = \\\n",
    "    data.loc[(data['income_type'] == t), 'total_income'].median()"
   ]
  },
  {
   "cell_type": "markdown",
   "id": "27cf8c82",
   "metadata": {
    "deletable": false,
    "editable": false,
    "id": "89da5ece"
   },
   "source": [
    "### Обработка аномальных значений"
   ]
  },
  {
   "cell_type": "markdown",
   "id": "3915a4d4",
   "metadata": {
    "deletable": false,
    "editable": false,
    "id": "57964554"
   },
   "source": [
    "**Задание 6. В данных могут встречаться артефакты (аномалии) — значения, которые не отражают действительность и появились по какой-то ошибке. таким артефактом будет отрицательное количество дней трудового стажа в столбце `days_employed`. Для реальных данных это нормально. Обработайте значения в этом столбце: замените все отрицательные значения положительными с помощью метода `abs()`.**"
   ]
  },
  {
   "cell_type": "code",
   "execution_count": 6,
   "id": "004c191c",
   "metadata": {
    "deletable": false,
    "id": "f6f055bf"
   },
   "outputs": [],
   "source": [
    "data['days_employed'] = data['days_employed'].abs()"
   ]
  },
  {
   "cell_type": "markdown",
   "id": "a5f5e53f",
   "metadata": {
    "deletable": false,
    "editable": false,
    "id": "6107dd2f"
   },
   "source": [
    "**Задание 7. Для каждого типа занятости выведите медианное значение трудового стажа `days_employed` в днях.**"
   ]
  },
  {
   "cell_type": "code",
   "execution_count": 7,
   "id": "b4ce72f2",
   "metadata": {
    "deletable": false,
    "id": "85a5faf6",
    "outputId": "801ef80e-522b-4668-f34e-565af7432bcf"
   },
   "outputs": [
    {
     "data": {
      "text/plain": [
       "income_type\n",
       "безработный        366413.652744\n",
       "в декрете            3296.759962\n",
       "госслужащий          2689.368353\n",
       "компаньон            1547.382223\n",
       "пенсионер          365213.306266\n",
       "предприниматель       520.848083\n",
       "сотрудник            1574.202821\n",
       "студент               578.751554\n",
       "Name: days_employed, dtype: float64"
      ]
     },
     "execution_count": 7,
     "metadata": {},
     "output_type": "execute_result"
    }
   ],
   "source": [
    "data.groupby('income_type')['days_employed'].agg('median')"
   ]
  },
  {
   "cell_type": "markdown",
   "id": "c8153b44",
   "metadata": {
    "deletable": false,
    "editable": false,
    "id": "38d1a030"
   },
   "source": [
    "У двух типов (безработные и пенсионеры) получатся аномально большие значения. Исправить такие значения сложно, поэтому оставьте их как есть. Тем более этот столбец не понадобится вам для исследования."
   ]
  },
  {
   "cell_type": "markdown",
   "id": "0acc382c",
   "metadata": {
    "deletable": false,
    "editable": false,
    "id": "d8a9f147"
   },
   "source": [
    "**Задание 8. Выведите перечень уникальных значений столбца `children`.**"
   ]
  },
  {
   "cell_type": "code",
   "execution_count": 8,
   "id": "b4079971",
   "metadata": {
    "deletable": false,
    "id": "ef5056eb",
    "outputId": "6975b15c-7f95-4697-d16d-a0c79b657b03"
   },
   "outputs": [
    {
     "data": {
      "text/plain": [
       "array([ 1,  0,  3,  2, -1,  4, 20,  5])"
      ]
     },
     "execution_count": 8,
     "metadata": {},
     "output_type": "execute_result"
    }
   ],
   "source": [
    "data['children'].unique()"
   ]
  },
  {
   "cell_type": "markdown",
   "id": "e4632b91",
   "metadata": {
    "deletable": false,
    "editable": false,
    "id": "40b9ebf2"
   },
   "source": [
    "**Задание 9. В столбце `children` есть два аномальных значения. Удалите строки, в которых встречаются такие аномальные значения из датафрейма `data`.**"
   ]
  },
  {
   "cell_type": "code",
   "execution_count": 9,
   "id": "27a618e3",
   "metadata": {
    "deletable": false,
    "id": "3ff9801d"
   },
   "outputs": [],
   "source": [
    "data = data[(data['children'] != -1) & (data['children'] != 20)]"
   ]
  },
  {
   "cell_type": "markdown",
   "id": "6ab27544",
   "metadata": {
    "deletable": false,
    "editable": false,
    "id": "bbc4d0ce"
   },
   "source": [
    "**Задание 10. Ещё раз выведите перечень уникальных значений столбца `children`, чтобы убедиться, что артефакты удалены.**"
   ]
  },
  {
   "cell_type": "code",
   "execution_count": 10,
   "id": "965c4470",
   "metadata": {
    "deletable": false,
    "id": "ad4fa8b7",
    "outputId": "b2097101-d49d-44d9-901b-32a65c9463d1"
   },
   "outputs": [
    {
     "data": {
      "text/plain": [
       "array([1, 0, 3, 2, 4, 5])"
      ]
     },
     "execution_count": 10,
     "metadata": {},
     "output_type": "execute_result"
    }
   ],
   "source": [
    "data['children'].unique()"
   ]
  },
  {
   "cell_type": "markdown",
   "id": "12586777",
   "metadata": {
    "deletable": false,
    "editable": false,
    "id": "75440b63"
   },
   "source": [
    "### Удаление пропусков (продолжение)"
   ]
  },
  {
   "cell_type": "markdown",
   "id": "ac658a40",
   "metadata": {
    "deletable": false,
    "editable": false,
    "id": "f4ea573f"
   },
   "source": [
    "**Задание 11. Заполните пропуски в столбце `days_employed` медианными значениями по каждого типа занятости `income_type`.**"
   ]
  },
  {
   "cell_type": "code",
   "execution_count": 11,
   "id": "f728307f",
   "metadata": {
    "deletable": false,
    "id": "af6b1a7e"
   },
   "outputs": [],
   "source": [
    "for t in data['income_type'].unique():\n",
    "    data.loc[(data['income_type'] == t) & (data['days_employed'].isna()), 'days_employed'] = \\\n",
    "    data.loc[(data['income_type'] == t), 'days_employed'].median()"
   ]
  },
  {
   "cell_type": "markdown",
   "id": "95c58430",
   "metadata": {
    "deletable": false,
    "editable": false,
    "id": "2753f40d"
   },
   "source": [
    "**Задание 12. Убедитесь, что все пропуски заполнены. Проверьте себя и ещё раз выведите количество пропущенных значений для каждого столбца с помощью двух методов.**"
   ]
  },
  {
   "cell_type": "code",
   "execution_count": 12,
   "id": "df465cff",
   "metadata": {
    "deletable": false,
    "id": "55f78bc2",
    "outputId": "8da1e4e1-358e-4e87-98c9-f261bce0a7b2"
   },
   "outputs": [
    {
     "data": {
      "text/plain": [
       "children            0\n",
       "days_employed       0\n",
       "dob_years           0\n",
       "education           0\n",
       "education_id        0\n",
       "family_status       0\n",
       "family_status_id    0\n",
       "gender              0\n",
       "income_type         0\n",
       "debt                0\n",
       "total_income        0\n",
       "purpose             0\n",
       "dtype: int64"
      ]
     },
     "execution_count": 12,
     "metadata": {},
     "output_type": "execute_result"
    }
   ],
   "source": [
    "data.isna().sum()"
   ]
  },
  {
   "cell_type": "markdown",
   "id": "2f55d94b",
   "metadata": {
    "deletable": false,
    "editable": false,
    "id": "ddc81e43"
   },
   "source": [
    "### Изменение типов данных"
   ]
  },
  {
   "cell_type": "markdown",
   "id": "851d3c31",
   "metadata": {
    "deletable": false,
    "editable": false,
    "id": "42d19d24"
   },
   "source": [
    "**Задание 13. Замените вещественный тип данных в столбце `total_income` на целочисленный с помощью метода `astype()`.**"
   ]
  },
  {
   "cell_type": "code",
   "execution_count": 13,
   "id": "7aae21ed",
   "metadata": {
    "deletable": false,
    "id": "920b65ad"
   },
   "outputs": [],
   "source": [
    "data['total_income'] = data['total_income'].astype(int)"
   ]
  },
  {
   "cell_type": "markdown",
   "id": "bc10b789",
   "metadata": {
    "deletable": false,
    "editable": false,
    "id": "80c420ba"
   },
   "source": [
    "### Обработка дубликатов"
   ]
  },
  {
   "cell_type": "markdown",
   "id": "960679e7",
   "metadata": {
    "deletable": false,
    "editable": false
   },
   "source": [
    "**Задание 14. Обработайте неявные дубликаты в столбце `education`. В этом столбце есть одни и те же значения, но записанные по-разному: с использованием заглавных и строчных букв. Приведите их к нижнему регистру. Проверьте остальные столбцы.**"
   ]
  },
  {
   "cell_type": "code",
   "execution_count": 14,
   "id": "98ea7bb0",
   "metadata": {
    "deletable": false
   },
   "outputs": [],
   "source": [
    "data['education'] = data['education'].str.lower()"
   ]
  },
  {
   "cell_type": "markdown",
   "id": "d5c18a22",
   "metadata": {
    "deletable": false,
    "editable": false,
    "id": "dc587695"
   },
   "source": [
    "**Задание 15. Выведите на экран количество строк-дубликатов в данных. Если такие строки присутствуют, удалите их.**"
   ]
  },
  {
   "cell_type": "code",
   "execution_count": 15,
   "id": "b5353b11",
   "metadata": {
    "deletable": false,
    "id": "3ee445e4",
    "outputId": "9684deba-1934-42d1-99e1-cda61740f822"
   },
   "outputs": [
    {
     "data": {
      "text/plain": [
       "71"
      ]
     },
     "execution_count": 15,
     "metadata": {},
     "output_type": "execute_result"
    }
   ],
   "source": [
    "data.duplicated().sum()"
   ]
  },
  {
   "cell_type": "code",
   "execution_count": 16,
   "id": "82421de5",
   "metadata": {
    "deletable": false,
    "id": "8575fe05"
   },
   "outputs": [],
   "source": [
    "data = data.drop_duplicates()"
   ]
  },
  {
   "cell_type": "markdown",
   "id": "e3b374ab",
   "metadata": {
    "deletable": false,
    "editable": false,
    "id": "9904cf55"
   },
   "source": [
    "### Категоризация данных"
   ]
  },
  {
   "cell_type": "markdown",
   "id": "48154b17",
   "metadata": {
    "deletable": false,
    "editable": false,
    "id": "72fcc8a2"
   },
   "source": [
    "**Задание 16. На основании диапазонов, указанных ниже, создайте в датафрейме `data` столбец `total_income_category` с категориями:**\n",
    "\n",
    "- 0–30000 — `'E'`;\n",
    "- 30001–50000 — `'D'`;\n",
    "- 50001–200000 — `'C'`;\n",
    "- 200001–1000000 — `'B'`;\n",
    "- 1000001 и выше — `'A'`.\n",
    "\n",
    "\n",
    "**Например, кредитополучателю с доходом 25000 нужно назначить категорию `'E'`, а клиенту, получающему 235000, — `'B'`. Используйте собственную функцию с именем `categorize_income()` и метод `apply()`.**"
   ]
  },
  {
   "cell_type": "code",
   "execution_count": 17,
   "id": "758f1ed5",
   "metadata": {
    "deletable": false,
    "id": "e1771346"
   },
   "outputs": [],
   "source": [
    "def categorize_income(income):\n",
    "    try:\n",
    "        if 0 <= income <= 30000:\n",
    "            return 'E'\n",
    "        elif 30001 <= income <= 50000:\n",
    "            return 'D'\n",
    "        elif 50001 <= income <= 200000:\n",
    "            return 'C'\n",
    "        elif 200001 <= income <= 1000000:\n",
    "            return 'B'\n",
    "        elif income >= 1000001:\n",
    "            return 'A'\n",
    "    except:\n",
    "        pass"
   ]
  },
  {
   "cell_type": "code",
   "execution_count": 18,
   "id": "5d0602db",
   "metadata": {
    "deletable": false,
    "id": "d5f3586d"
   },
   "outputs": [],
   "source": [
    "data['total_income_category'] = data['total_income'].apply(categorize_income)"
   ]
  },
  {
   "cell_type": "markdown",
   "id": "d264667c",
   "metadata": {
    "deletable": false,
    "editable": false,
    "id": "dde49b5c"
   },
   "source": [
    "**Задание 17. Выведите на экран перечень уникальных целей взятия кредита из столбца `purpose`.**"
   ]
  },
  {
   "cell_type": "code",
   "execution_count": 19,
   "id": "bc36ac69",
   "metadata": {
    "deletable": false,
    "id": "f67ce9b3",
    "outputId": "673c12d9-7d7e-4ae0-9812-c622c89dd244"
   },
   "outputs": [
    {
     "data": {
      "text/plain": [
       "array(['покупка жилья', 'приобретение автомобиля',\n",
       "       'дополнительное образование', 'сыграть свадьбу',\n",
       "       'операции с жильем', 'образование', 'на проведение свадьбы',\n",
       "       'покупка жилья для семьи', 'покупка недвижимости',\n",
       "       'покупка коммерческой недвижимости', 'покупка жилой недвижимости',\n",
       "       'строительство собственной недвижимости', 'недвижимость',\n",
       "       'строительство недвижимости', 'на покупку подержанного автомобиля',\n",
       "       'на покупку своего автомобиля',\n",
       "       'операции с коммерческой недвижимостью',\n",
       "       'строительство жилой недвижимости', 'жилье',\n",
       "       'операции со своей недвижимостью', 'автомобили',\n",
       "       'заняться образованием', 'сделка с подержанным автомобилем',\n",
       "       'получение образования', 'автомобиль', 'свадьба',\n",
       "       'получение дополнительного образования', 'покупка своего жилья',\n",
       "       'операции с недвижимостью', 'получение высшего образования',\n",
       "       'свой автомобиль', 'сделка с автомобилем',\n",
       "       'профильное образование', 'высшее образование',\n",
       "       'покупка жилья для сдачи', 'на покупку автомобиля', 'ремонт жилью',\n",
       "       'заняться высшим образованием'], dtype=object)"
      ]
     },
     "execution_count": 19,
     "metadata": {},
     "output_type": "execute_result"
    }
   ],
   "source": [
    "data['purpose'].unique()"
   ]
  },
  {
   "cell_type": "markdown",
   "id": "81507b70",
   "metadata": {
    "deletable": false,
    "editable": false,
    "id": "85d0aef0"
   },
   "source": [
    "**Задание 18. Создайте функцию, которая на основании данных из столбца `purpose` сформирует новый столбец `purpose_category`, в который войдут следующие категории:**\n",
    "\n",
    "- `'операции с автомобилем'`,\n",
    "- `'операции с недвижимостью'`,\n",
    "- `'проведение свадьбы'`,\n",
    "- `'получение образования'`.\n",
    "\n",
    "**Например, если в столбце `purpose` находится подстрока `'на покупку автомобиля'`, то в столбце `purpose_category` должна появиться строка `'операции с автомобилем'`.**\n",
    "\n",
    "**Используйте собственную функцию с именем `categorize_purpose()` и метод `apply()`. Изучите данные в столбце `purpose` и определите, какие подстроки помогут вам правильно определить категорию.**"
   ]
  },
  {
   "cell_type": "code",
   "execution_count": 20,
   "id": "e4c360ee",
   "metadata": {
    "deletable": false,
    "id": "e149fab4"
   },
   "outputs": [],
   "source": [
    "def categorize_purpose(row):\n",
    "    try:\n",
    "        if 'автом' in row:\n",
    "            return 'операции с автомобилем'\n",
    "        elif 'жил' in row or 'недвиж' in row:\n",
    "            return 'операции с недвижимостью'\n",
    "        elif 'свад' in row:\n",
    "            return 'проведение свадьбы'\n",
    "        elif 'образов' in row:\n",
    "            return 'получение образования'\n",
    "    except:\n",
    "        return 'нет категории'"
   ]
  },
  {
   "cell_type": "code",
   "execution_count": 21,
   "id": "74041be4",
   "metadata": {
    "deletable": false,
    "id": "bf36e69b"
   },
   "outputs": [],
   "source": [
    "data['purpose_category'] = data['purpose'].apply(categorize_purpose)"
   ]
  },
  {
   "cell_type": "markdown",
   "id": "ff22b324",
   "metadata": {
    "deletable": false,
    "editable": false,
    "id": "09b242bf"
   },
   "source": [
    "### Шаг 3. Исследуйте данные и ответьте на вопросы"
   ]
  },
  {
   "cell_type": "markdown",
   "id": "3d69919c",
   "metadata": {
    "deletable": false,
    "editable": false,
    "id": "c5d66278"
   },
   "source": [
    "#### 3.1 Есть ли зависимость между количеством детей и возвратом кредита в срок?"
   ]
  },
  {
   "cell_type": "markdown",
   "id": "fba28168",
   "metadata": {},
   "source": [
    "**Пояснение:** Чтобы ответить на этот вопрос сделаем `сводную таблицу`. Это можно сделать с помощью:\n",
    "- функции `pivot_table()`;\n",
    "- сгруппировав данные методами `groupby()` и `agg()`."
   ]
  },
  {
   "cell_type": "code",
   "execution_count": 22,
   "id": "104301b4",
   "metadata": {},
   "outputs": [
    {
     "data": {
      "text/html": [
       "<div>\n",
       "<style scoped>\n",
       "    .dataframe tbody tr th:only-of-type {\n",
       "        vertical-align: middle;\n",
       "    }\n",
       "\n",
       "    .dataframe tbody tr th {\n",
       "        vertical-align: top;\n",
       "    }\n",
       "\n",
       "    .dataframe thead tr th {\n",
       "        text-align: left;\n",
       "    }\n",
       "\n",
       "    .dataframe thead tr:last-of-type th {\n",
       "        text-align: right;\n",
       "    }\n",
       "</style>\n",
       "<table border=\"1\" class=\"dataframe\">\n",
       "  <thead>\n",
       "    <tr>\n",
       "      <th></th>\n",
       "      <th>count</th>\n",
       "      <th>sum</th>\n",
       "      <th>mean</th>\n",
       "    </tr>\n",
       "    <tr>\n",
       "      <th></th>\n",
       "      <th>debt</th>\n",
       "      <th>debt</th>\n",
       "      <th>debt</th>\n",
       "    </tr>\n",
       "    <tr>\n",
       "      <th>children</th>\n",
       "      <th></th>\n",
       "      <th></th>\n",
       "      <th></th>\n",
       "    </tr>\n",
       "  </thead>\n",
       "  <tbody>\n",
       "    <tr>\n",
       "      <th>0</th>\n",
       "      <td>14091</td>\n",
       "      <td>1063</td>\n",
       "      <td>0.075438</td>\n",
       "    </tr>\n",
       "    <tr>\n",
       "      <th>1</th>\n",
       "      <td>4808</td>\n",
       "      <td>444</td>\n",
       "      <td>0.092346</td>\n",
       "    </tr>\n",
       "    <tr>\n",
       "      <th>2</th>\n",
       "      <td>2052</td>\n",
       "      <td>194</td>\n",
       "      <td>0.094542</td>\n",
       "    </tr>\n",
       "    <tr>\n",
       "      <th>3</th>\n",
       "      <td>330</td>\n",
       "      <td>27</td>\n",
       "      <td>0.081818</td>\n",
       "    </tr>\n",
       "    <tr>\n",
       "      <th>4</th>\n",
       "      <td>41</td>\n",
       "      <td>4</td>\n",
       "      <td>0.097561</td>\n",
       "    </tr>\n",
       "    <tr>\n",
       "      <th>5</th>\n",
       "      <td>9</td>\n",
       "      <td>0</td>\n",
       "      <td>0.000000</td>\n",
       "    </tr>\n",
       "  </tbody>\n",
       "</table>\n",
       "</div>"
      ],
      "text/plain": [
       "          count   sum      mean\n",
       "           debt  debt      debt\n",
       "children                       \n",
       "0         14091  1063  0.075438\n",
       "1          4808   444  0.092346\n",
       "2          2052   194  0.094542\n",
       "3           330    27  0.081818\n",
       "4            41     4  0.097561\n",
       "5             9     0  0.000000"
      ]
     },
     "metadata": {},
     "output_type": "display_data"
    }
   ],
   "source": [
    "data_pivot_children = data.pivot_table(index = ['children'],values = 'debt',aggfunc = ['count','sum', 'mean'])\n",
    "display(data_pivot_children)"
   ]
  },
  {
   "cell_type": "code",
   "execution_count": 23,
   "id": "8e004a98",
   "metadata": {
    "deletable": false,
    "id": "2cacfc4a"
   },
   "outputs": [
    {
     "data": {
      "text/html": [
       "<div>\n",
       "<style scoped>\n",
       "    .dataframe tbody tr th:only-of-type {\n",
       "        vertical-align: middle;\n",
       "    }\n",
       "\n",
       "    .dataframe tbody tr th {\n",
       "        vertical-align: top;\n",
       "    }\n",
       "\n",
       "    .dataframe thead tr th {\n",
       "        text-align: left;\n",
       "    }\n",
       "\n",
       "    .dataframe thead tr:last-of-type th {\n",
       "        text-align: right;\n",
       "    }\n",
       "</style>\n",
       "<table border=\"1\" class=\"dataframe\">\n",
       "  <thead>\n",
       "    <tr>\n",
       "      <th></th>\n",
       "      <th colspan=\"3\" halign=\"left\">debt</th>\n",
       "    </tr>\n",
       "    <tr>\n",
       "      <th></th>\n",
       "      <th>count</th>\n",
       "      <th>sum</th>\n",
       "      <th>mean</th>\n",
       "    </tr>\n",
       "    <tr>\n",
       "      <th>children</th>\n",
       "      <th></th>\n",
       "      <th></th>\n",
       "      <th></th>\n",
       "    </tr>\n",
       "  </thead>\n",
       "  <tbody>\n",
       "    <tr>\n",
       "      <th>0</th>\n",
       "      <td>14091</td>\n",
       "      <td>1063</td>\n",
       "      <td>0.075438</td>\n",
       "    </tr>\n",
       "    <tr>\n",
       "      <th>1</th>\n",
       "      <td>4808</td>\n",
       "      <td>444</td>\n",
       "      <td>0.092346</td>\n",
       "    </tr>\n",
       "    <tr>\n",
       "      <th>2</th>\n",
       "      <td>2052</td>\n",
       "      <td>194</td>\n",
       "      <td>0.094542</td>\n",
       "    </tr>\n",
       "    <tr>\n",
       "      <th>3</th>\n",
       "      <td>330</td>\n",
       "      <td>27</td>\n",
       "      <td>0.081818</td>\n",
       "    </tr>\n",
       "    <tr>\n",
       "      <th>4</th>\n",
       "      <td>41</td>\n",
       "      <td>4</td>\n",
       "      <td>0.097561</td>\n",
       "    </tr>\n",
       "    <tr>\n",
       "      <th>5</th>\n",
       "      <td>9</td>\n",
       "      <td>0</td>\n",
       "      <td>0.000000</td>\n",
       "    </tr>\n",
       "  </tbody>\n",
       "</table>\n",
       "</div>"
      ],
      "text/plain": [
       "           debt                \n",
       "          count   sum      mean\n",
       "children                       \n",
       "0         14091  1063  0.075438\n",
       "1          4808   444  0.092346\n",
       "2          2052   194  0.094542\n",
       "3           330    27  0.081818\n",
       "4            41     4  0.097561\n",
       "5             9     0  0.000000"
      ]
     },
     "metadata": {},
     "output_type": "display_data"
    }
   ],
   "source": [
    "children_debt = data.groupby('children').agg({'debt':['count','sum', 'mean']})\n",
    "display(children_debt)"
   ]
  },
  {
   "cell_type": "markdown",
   "id": "f2fac4c4",
   "metadata": {},
   "source": [
    "Расположим по убыванию - сверху тех у кого больший процент просрочек, т.е. отсортируем по убыванию столбец со значениями `mean`. Для этого нужно понимать наименование столбца, по которому будем сортировать. Выведем на экран наименования столбцов:"
   ]
  },
  {
   "cell_type": "code",
   "execution_count": 24,
   "id": "3f79beb0",
   "metadata": {},
   "outputs": [
    {
     "name": "stdout",
     "output_type": "stream",
     "text": [
      "MultiIndex([('count', 'debt'),\n",
      "            (  'sum', 'debt'),\n",
      "            ( 'mean', 'debt')],\n",
      "           )\n"
     ]
    }
   ],
   "source": [
    "print(data_pivot_children.columns)"
   ]
  },
  {
   "cell_type": "code",
   "execution_count": 25,
   "id": "7f8b5770",
   "metadata": {},
   "outputs": [
    {
     "data": {
      "text/html": [
       "<div>\n",
       "<style scoped>\n",
       "    .dataframe tbody tr th:only-of-type {\n",
       "        vertical-align: middle;\n",
       "    }\n",
       "\n",
       "    .dataframe tbody tr th {\n",
       "        vertical-align: top;\n",
       "    }\n",
       "\n",
       "    .dataframe thead tr th {\n",
       "        text-align: left;\n",
       "    }\n",
       "\n",
       "    .dataframe thead tr:last-of-type th {\n",
       "        text-align: right;\n",
       "    }\n",
       "</style>\n",
       "<table border=\"1\" class=\"dataframe\">\n",
       "  <thead>\n",
       "    <tr>\n",
       "      <th></th>\n",
       "      <th>count</th>\n",
       "      <th>sum</th>\n",
       "      <th>mean</th>\n",
       "    </tr>\n",
       "    <tr>\n",
       "      <th></th>\n",
       "      <th>debt</th>\n",
       "      <th>debt</th>\n",
       "      <th>debt</th>\n",
       "    </tr>\n",
       "    <tr>\n",
       "      <th>children</th>\n",
       "      <th></th>\n",
       "      <th></th>\n",
       "      <th></th>\n",
       "    </tr>\n",
       "  </thead>\n",
       "  <tbody>\n",
       "    <tr>\n",
       "      <th>4</th>\n",
       "      <td>41</td>\n",
       "      <td>4</td>\n",
       "      <td>0.097561</td>\n",
       "    </tr>\n",
       "    <tr>\n",
       "      <th>2</th>\n",
       "      <td>2052</td>\n",
       "      <td>194</td>\n",
       "      <td>0.094542</td>\n",
       "    </tr>\n",
       "    <tr>\n",
       "      <th>1</th>\n",
       "      <td>4808</td>\n",
       "      <td>444</td>\n",
       "      <td>0.092346</td>\n",
       "    </tr>\n",
       "    <tr>\n",
       "      <th>3</th>\n",
       "      <td>330</td>\n",
       "      <td>27</td>\n",
       "      <td>0.081818</td>\n",
       "    </tr>\n",
       "    <tr>\n",
       "      <th>0</th>\n",
       "      <td>14091</td>\n",
       "      <td>1063</td>\n",
       "      <td>0.075438</td>\n",
       "    </tr>\n",
       "    <tr>\n",
       "      <th>5</th>\n",
       "      <td>9</td>\n",
       "      <td>0</td>\n",
       "      <td>0.000000</td>\n",
       "    </tr>\n",
       "  </tbody>\n",
       "</table>\n",
       "</div>"
      ],
      "text/plain": [
       "          count   sum      mean\n",
       "           debt  debt      debt\n",
       "children                       \n",
       "4            41     4  0.097561\n",
       "2          2052   194  0.094542\n",
       "1          4808   444  0.092346\n",
       "3           330    27  0.081818\n",
       "0         14091  1063  0.075438\n",
       "5             9     0  0.000000"
      ]
     },
     "metadata": {},
     "output_type": "display_data"
    }
   ],
   "source": [
    "display(data_pivot_children.sort_values(by = ('mean', 'debt'), ascending = False))"
   ]
  },
  {
   "cell_type": "markdown",
   "id": "cff0d9e4",
   "metadata": {},
   "source": [
    "То же самое проделаем для решения с агрегирующей функцией:"
   ]
  },
  {
   "cell_type": "code",
   "execution_count": 26,
   "id": "fc7b0a59",
   "metadata": {},
   "outputs": [
    {
     "name": "stdout",
     "output_type": "stream",
     "text": [
      "MultiIndex([('debt', 'count'),\n",
      "            ('debt',   'sum'),\n",
      "            ('debt',  'mean')],\n",
      "           )\n"
     ]
    }
   ],
   "source": [
    "print(children_debt.columns)"
   ]
  },
  {
   "cell_type": "code",
   "execution_count": 27,
   "id": "f7240cdc",
   "metadata": {},
   "outputs": [
    {
     "data": {
      "text/html": [
       "<div>\n",
       "<style scoped>\n",
       "    .dataframe tbody tr th:only-of-type {\n",
       "        vertical-align: middle;\n",
       "    }\n",
       "\n",
       "    .dataframe tbody tr th {\n",
       "        vertical-align: top;\n",
       "    }\n",
       "\n",
       "    .dataframe thead tr th {\n",
       "        text-align: left;\n",
       "    }\n",
       "\n",
       "    .dataframe thead tr:last-of-type th {\n",
       "        text-align: right;\n",
       "    }\n",
       "</style>\n",
       "<table border=\"1\" class=\"dataframe\">\n",
       "  <thead>\n",
       "    <tr>\n",
       "      <th></th>\n",
       "      <th colspan=\"3\" halign=\"left\">debt</th>\n",
       "    </tr>\n",
       "    <tr>\n",
       "      <th></th>\n",
       "      <th>count</th>\n",
       "      <th>sum</th>\n",
       "      <th>mean</th>\n",
       "    </tr>\n",
       "    <tr>\n",
       "      <th>children</th>\n",
       "      <th></th>\n",
       "      <th></th>\n",
       "      <th></th>\n",
       "    </tr>\n",
       "  </thead>\n",
       "  <tbody>\n",
       "    <tr>\n",
       "      <th>4</th>\n",
       "      <td>41</td>\n",
       "      <td>4</td>\n",
       "      <td>0.097561</td>\n",
       "    </tr>\n",
       "    <tr>\n",
       "      <th>2</th>\n",
       "      <td>2052</td>\n",
       "      <td>194</td>\n",
       "      <td>0.094542</td>\n",
       "    </tr>\n",
       "    <tr>\n",
       "      <th>1</th>\n",
       "      <td>4808</td>\n",
       "      <td>444</td>\n",
       "      <td>0.092346</td>\n",
       "    </tr>\n",
       "    <tr>\n",
       "      <th>3</th>\n",
       "      <td>330</td>\n",
       "      <td>27</td>\n",
       "      <td>0.081818</td>\n",
       "    </tr>\n",
       "    <tr>\n",
       "      <th>0</th>\n",
       "      <td>14091</td>\n",
       "      <td>1063</td>\n",
       "      <td>0.075438</td>\n",
       "    </tr>\n",
       "    <tr>\n",
       "      <th>5</th>\n",
       "      <td>9</td>\n",
       "      <td>0</td>\n",
       "      <td>0.000000</td>\n",
       "    </tr>\n",
       "  </tbody>\n",
       "</table>\n",
       "</div>"
      ],
      "text/plain": [
       "           debt                \n",
       "          count   sum      mean\n",
       "children                       \n",
       "4            41     4  0.097561\n",
       "2          2052   194  0.094542\n",
       "1          4808   444  0.092346\n",
       "3           330    27  0.081818\n",
       "0         14091  1063  0.075438\n",
       "5             9     0  0.000000"
      ]
     },
     "metadata": {},
     "output_type": "display_data"
    }
   ],
   "source": [
    "display(children_debt.sort_values(by = ('debt',  'mean'), ascending = False))"
   ]
  },
  {
   "cell_type": "markdown",
   "id": "f0ddbc7a",
   "metadata": {
    "deletable": false,
    "id": "3a6b99ec"
   },
   "source": [
    "**Вывод:** Отвечая на поставленный вопрос, можно сказать, что зависимость между количеством детей и возвратом кредита в срок есть. Самыми ненадежными заемщиками являются многодетные семьи с 4 детьми. Самые надежными заемщики те, у которых вообще нет детей. \n",
    "\n",
    "Однако, было бы неправильно делать вывод, что семьи с 5 детьми являются более надежными заемщиками, чем семьи с 4 детьми. Скорее всего, причина такого результата кроется в структуре набора данных (нет данных о задолженностях по возврату кредитов для заемщиков с 5 детьми), либо выборка является не презентативной из-за того, что семей с 5 детьми в ней всего 9 шт, возможно это всего лишь совпадение, что именно у этих 9 семей нет долга по кредиту."
   ]
  },
  {
   "cell_type": "markdown",
   "id": "6a731ee1",
   "metadata": {
    "deletable": false,
    "editable": false,
    "id": "97be82ca"
   },
   "source": [
    "#### 3.2 Есть ли зависимость между семейным положением и возвратом кредита в срок?"
   ]
  },
  {
   "cell_type": "markdown",
   "id": "c054ce60",
   "metadata": {},
   "source": [
    "Посчитаем аналогично предыдущему пункту доли количеств просрочек в каждой группе с различным семейным положением и расположим в порядке убывания: "
   ]
  },
  {
   "cell_type": "code",
   "execution_count": 28,
   "id": "84f4c82e",
   "metadata": {
    "deletable": false,
    "id": "dc3f7ee8"
   },
   "outputs": [
    {
     "data": {
      "text/html": [
       "<div>\n",
       "<style scoped>\n",
       "    .dataframe tbody tr th:only-of-type {\n",
       "        vertical-align: middle;\n",
       "    }\n",
       "\n",
       "    .dataframe tbody tr th {\n",
       "        vertical-align: top;\n",
       "    }\n",
       "\n",
       "    .dataframe thead tr th {\n",
       "        text-align: left;\n",
       "    }\n",
       "\n",
       "    .dataframe thead tr:last-of-type th {\n",
       "        text-align: right;\n",
       "    }\n",
       "</style>\n",
       "<table border=\"1\" class=\"dataframe\">\n",
       "  <thead>\n",
       "    <tr>\n",
       "      <th></th>\n",
       "      <th colspan=\"3\" halign=\"left\">debt</th>\n",
       "    </tr>\n",
       "    <tr>\n",
       "      <th></th>\n",
       "      <th>count</th>\n",
       "      <th>sum</th>\n",
       "      <th>mean</th>\n",
       "    </tr>\n",
       "    <tr>\n",
       "      <th>family_status</th>\n",
       "      <th></th>\n",
       "      <th></th>\n",
       "      <th></th>\n",
       "    </tr>\n",
       "  </thead>\n",
       "  <tbody>\n",
       "    <tr>\n",
       "      <th>Не женат / не замужем</th>\n",
       "      <td>2796</td>\n",
       "      <td>273</td>\n",
       "      <td>0.097639</td>\n",
       "    </tr>\n",
       "    <tr>\n",
       "      <th>гражданский брак</th>\n",
       "      <td>4134</td>\n",
       "      <td>385</td>\n",
       "      <td>0.093130</td>\n",
       "    </tr>\n",
       "    <tr>\n",
       "      <th>женат / замужем</th>\n",
       "      <td>12261</td>\n",
       "      <td>927</td>\n",
       "      <td>0.075606</td>\n",
       "    </tr>\n",
       "    <tr>\n",
       "      <th>в разводе</th>\n",
       "      <td>1189</td>\n",
       "      <td>84</td>\n",
       "      <td>0.070648</td>\n",
       "    </tr>\n",
       "    <tr>\n",
       "      <th>вдовец / вдова</th>\n",
       "      <td>951</td>\n",
       "      <td>63</td>\n",
       "      <td>0.066246</td>\n",
       "    </tr>\n",
       "  </tbody>\n",
       "</table>\n",
       "</div>"
      ],
      "text/plain": [
       "                        debt               \n",
       "                       count  sum      mean\n",
       "family_status                              \n",
       "Не женат / не замужем   2796  273  0.097639\n",
       "гражданский брак        4134  385  0.093130\n",
       "женат / замужем        12261  927  0.075606\n",
       "в разводе               1189   84  0.070648\n",
       "вдовец / вдова           951   63  0.066246"
      ]
     },
     "metadata": {},
     "output_type": "display_data"
    }
   ],
   "source": [
    "family_status_debt = data.groupby('family_status').agg({'debt':['count','sum', 'mean']})\n",
    "display(family_status_debt.sort_values(by = ('debt', 'mean'), ascending = False))"
   ]
  },
  {
   "cell_type": "markdown",
   "id": "a09c14a1",
   "metadata": {
    "deletable": false,
    "id": "1cef7837"
   },
   "source": [
    "**Вывод:** Из таблицы можно сделать вывод, что наибольший процент тех, кто имел задолженность по кредиту холостые, либо живут в гражданском браке. Наименьший процент тех, кто имел задолженность в группе вдовец/вдова и в разводе."
   ]
  },
  {
   "cell_type": "markdown",
   "id": "ec18e28f",
   "metadata": {
    "deletable": false,
    "editable": false,
    "id": "1e8b2fca"
   },
   "source": [
    "#### 3.3 Есть ли зависимость между уровнем дохода и возвратом кредита в срок?"
   ]
  },
  {
   "cell_type": "markdown",
   "id": "453a32fc",
   "metadata": {},
   "source": [
    "Выше мы уже распределяли клиентов по категориям в зависимости от доходов таким образом:\n",
    "- 0–30000 — `'E'`;\n",
    "- 30001–50000 — `'D'`;\n",
    "- 50001–200000 — `'C'`;\n",
    "- 200001–1000000 — `'B'`;\n",
    "- 1000001 и выше — `'A'`.\n",
    "\n",
    "Построим сводную таблицу по данным категориям и отфильтруем по столбцу `mean`:"
   ]
  },
  {
   "cell_type": "code",
   "execution_count": 29,
   "id": "b16d0e5e",
   "metadata": {
    "deletable": false,
    "id": "cd7e3720"
   },
   "outputs": [
    {
     "data": {
      "text/html": [
       "<div>\n",
       "<style scoped>\n",
       "    .dataframe tbody tr th:only-of-type {\n",
       "        vertical-align: middle;\n",
       "    }\n",
       "\n",
       "    .dataframe tbody tr th {\n",
       "        vertical-align: top;\n",
       "    }\n",
       "\n",
       "    .dataframe thead tr th {\n",
       "        text-align: left;\n",
       "    }\n",
       "\n",
       "    .dataframe thead tr:last-of-type th {\n",
       "        text-align: right;\n",
       "    }\n",
       "</style>\n",
       "<table border=\"1\" class=\"dataframe\">\n",
       "  <thead>\n",
       "    <tr>\n",
       "      <th></th>\n",
       "      <th>count</th>\n",
       "      <th>sum</th>\n",
       "      <th>mean</th>\n",
       "    </tr>\n",
       "    <tr>\n",
       "      <th></th>\n",
       "      <th>debt</th>\n",
       "      <th>debt</th>\n",
       "      <th>debt</th>\n",
       "    </tr>\n",
       "    <tr>\n",
       "      <th>total_income_category</th>\n",
       "      <th></th>\n",
       "      <th></th>\n",
       "      <th></th>\n",
       "    </tr>\n",
       "  </thead>\n",
       "  <tbody>\n",
       "    <tr>\n",
       "      <th>E</th>\n",
       "      <td>22</td>\n",
       "      <td>2</td>\n",
       "      <td>0.090909</td>\n",
       "    </tr>\n",
       "    <tr>\n",
       "      <th>C</th>\n",
       "      <td>15921</td>\n",
       "      <td>1353</td>\n",
       "      <td>0.084982</td>\n",
       "    </tr>\n",
       "    <tr>\n",
       "      <th>A</th>\n",
       "      <td>25</td>\n",
       "      <td>2</td>\n",
       "      <td>0.080000</td>\n",
       "    </tr>\n",
       "    <tr>\n",
       "      <th>B</th>\n",
       "      <td>5014</td>\n",
       "      <td>354</td>\n",
       "      <td>0.070602</td>\n",
       "    </tr>\n",
       "    <tr>\n",
       "      <th>D</th>\n",
       "      <td>349</td>\n",
       "      <td>21</td>\n",
       "      <td>0.060172</td>\n",
       "    </tr>\n",
       "  </tbody>\n",
       "</table>\n",
       "</div>"
      ],
      "text/plain": [
       "                       count   sum      mean\n",
       "                        debt  debt      debt\n",
       "total_income_category                       \n",
       "E                         22     2  0.090909\n",
       "C                      15921  1353  0.084982\n",
       "A                         25     2  0.080000\n",
       "B                       5014   354  0.070602\n",
       "D                        349    21  0.060172"
      ]
     },
     "metadata": {},
     "output_type": "display_data"
    }
   ],
   "source": [
    "data_pivot_total_income = data.pivot_table(index = ['total_income_category'],values = 'debt',aggfunc = ['count','sum', 'mean'])\n",
    "display(data_pivot_total_income.sort_values(by = ('mean', 'debt'), ascending = False))"
   ]
  },
  {
   "cell_type": "markdown",
   "id": "cd17d891",
   "metadata": {
    "deletable": false,
    "id": "e8593def"
   },
   "source": [
    "**Вывод:** Как видно из таблицы выборку по 2 катгориям `E`, `A` и `D` нельзя считать репрезентативной, т.к. в данные группы включено не достаточное количество клиентов. Поэтому, считаю возможным определять зависимость только по 2 группам с достаточным количеством клиентов - `C` и `B`. Можно сделать вывод, что клиентов имеющих задолженности по кредитам больше в группе `C`, т.е. в группе со средним доходом. В группе `B`, с доходом выше, процент имевших задолженность меньше. Т.е. чем выше доход, тем меньше вероятность задолженности по кредиту."
   ]
  },
  {
   "cell_type": "markdown",
   "id": "e3442a6f",
   "metadata": {
    "deletable": false,
    "editable": false,
    "id": "99ecbd1f"
   },
   "source": [
    "#### 3.4 Как разные цели кредита влияют на его возврат в срок?"
   ]
  },
  {
   "cell_type": "code",
   "execution_count": 30,
   "id": "1bf05a39",
   "metadata": {
    "deletable": false,
    "id": "2b687290"
   },
   "outputs": [
    {
     "data": {
      "text/html": [
       "<div>\n",
       "<style scoped>\n",
       "    .dataframe tbody tr th:only-of-type {\n",
       "        vertical-align: middle;\n",
       "    }\n",
       "\n",
       "    .dataframe tbody tr th {\n",
       "        vertical-align: top;\n",
       "    }\n",
       "\n",
       "    .dataframe thead tr th {\n",
       "        text-align: left;\n",
       "    }\n",
       "\n",
       "    .dataframe thead tr:last-of-type th {\n",
       "        text-align: right;\n",
       "    }\n",
       "</style>\n",
       "<table border=\"1\" class=\"dataframe\">\n",
       "  <thead>\n",
       "    <tr>\n",
       "      <th></th>\n",
       "      <th>count</th>\n",
       "      <th>sum</th>\n",
       "      <th>mean</th>\n",
       "    </tr>\n",
       "    <tr>\n",
       "      <th></th>\n",
       "      <th>debt</th>\n",
       "      <th>debt</th>\n",
       "      <th>debt</th>\n",
       "    </tr>\n",
       "    <tr>\n",
       "      <th>purpose_category</th>\n",
       "      <th></th>\n",
       "      <th></th>\n",
       "      <th></th>\n",
       "    </tr>\n",
       "  </thead>\n",
       "  <tbody>\n",
       "    <tr>\n",
       "      <th>операции с автомобилем</th>\n",
       "      <td>4279</td>\n",
       "      <td>400</td>\n",
       "      <td>0.093480</td>\n",
       "    </tr>\n",
       "    <tr>\n",
       "      <th>получение образования</th>\n",
       "      <td>3988</td>\n",
       "      <td>369</td>\n",
       "      <td>0.092528</td>\n",
       "    </tr>\n",
       "    <tr>\n",
       "      <th>проведение свадьбы</th>\n",
       "      <td>2313</td>\n",
       "      <td>183</td>\n",
       "      <td>0.079118</td>\n",
       "    </tr>\n",
       "    <tr>\n",
       "      <th>операции с недвижимостью</th>\n",
       "      <td>10751</td>\n",
       "      <td>780</td>\n",
       "      <td>0.072551</td>\n",
       "    </tr>\n",
       "  </tbody>\n",
       "</table>\n",
       "</div>"
      ],
      "text/plain": [
       "                          count  sum      mean\n",
       "                           debt debt      debt\n",
       "purpose_category                              \n",
       "операции с автомобилем     4279  400  0.093480\n",
       "получение образования      3988  369  0.092528\n",
       "проведение свадьбы         2313  183  0.079118\n",
       "операции с недвижимостью  10751  780  0.072551"
      ]
     },
     "metadata": {},
     "output_type": "display_data"
    }
   ],
   "source": [
    "data_pivot_purpose = data.pivot_table(index = ['purpose_category'],values = 'debt',aggfunc = ['count','sum', 'mean'])\n",
    "display(data_pivot_purpose.sort_values(by = ('mean', 'debt'), ascending = False))"
   ]
  },
  {
   "cell_type": "markdown",
   "id": "e2e1d625",
   "metadata": {
    "deletable": false,
    "id": "b4bb2ce6"
   },
   "source": [
    "**Вывод:** Клиенты у которых цель кредита был автомобиль или образование имели задолженность по кредиту чаще остальных. Люди, которые брали кредит на жильё имели самый низкий процент задолженности среди представленных клиентов."
   ]
  },
  {
   "cell_type": "markdown",
   "id": "8f3a3361",
   "metadata": {
    "deletable": false,
    "editable": false,
    "id": "09c3ac4c"
   },
   "source": [
    "#### 3.5 Приведите возможные причины появления пропусков в исходных данных."
   ]
  },
  {
   "cell_type": "markdown",
   "id": "26b76727",
   "metadata": {
    "deletable": false,
    "id": "9da2ceda"
   },
   "source": [
    "*Ответ:* В исходных данных имеем пропуски в столбцах `days_employed` — общий трудовой стаж в днях и `total_income` — ежемесячный доход, причем одинаковое количество пропусков равное 2174. Можно сделать вывод, что эти данные пропущены не по технической ошибке, скорее всего данные просто не указали в анкете на кредит, видимо эти люди безработные и не имеют трудовой стаж и ежемесячный доход. Одним словом - человеческий фактор."
   ]
  },
  {
   "cell_type": "markdown",
   "id": "85d9b257",
   "metadata": {
    "deletable": false,
    "editable": false,
    "id": "7b0487d6"
   },
   "source": [
    "#### 3.6 Объясните, почему заполнить пропуски медианным значением — лучшее решение для количественных переменных."
   ]
  },
  {
   "cell_type": "markdown",
   "id": "1978bb3e",
   "metadata": {
    "deletable": false,
    "id": "7ecf2b8e"
   },
   "source": [
    "*Ответ:* Медианное значение устраняет искажение результатов: если в датафрейме встретиться элемент с аномальным значением, но в расчетах мы используем медиану, то это не повлияет на достоверность результатов."
   ]
  },
  {
   "cell_type": "markdown",
   "id": "4e0b69d4",
   "metadata": {
    "deletable": false,
    "editable": false,
    "id": "6db5255a"
   },
   "source": [
    "### Шаг 4: общий вывод."
   ]
  },
  {
   "cell_type": "markdown",
   "id": "1d82307a",
   "metadata": {
    "deletable": false,
    "id": "bad65432"
   },
   "source": [
    "<div style=\"border:solid green 2px; padding: 40px\">\n",
    "    \n",
    "*Наиболее надежными заемщиками для банков являются:*\n",
    "- не имеющие детей;\n",
    "- женатые/замужние, овдовевшие;\n",
    "- те, кто хочет получить жилищный кредит (не для покупки автомобиля, получения образования или празднования свадьбы);\n",
    "\n",
    "*Самыми ненадежными заемщиками для банка являются:*\n",
    "- семьи с 4 детьми, а также семьи с 2 и 1 ребенком также имеют задержки, они находятся на втором и третьем месте по доле имеющих задолженность по возврату кредитов;\n",
    "- одинокие, неженатые люди;\n",
    "- те, кто хочет взять кредит на покупку автомобиля или получение образования;\n",
    "\n",
    "<font color='green'>Также на данном этапе исследования можно сказать, что зависимость между доходом и возвратом кредита в срок показала: **чем выше доход, тем меньше просрочек по оплате кредита. Т.е. более надежным будет заемщик с более высоким доходом.**</font>"
   ]
  }
 ],
 "metadata": {
  "ExecuteTimeLog": [
   {
    "duration": 1053,
    "start_time": "2022-10-28T15:03:14.039Z"
   },
   {
    "duration": 22,
    "start_time": "2022-10-28T15:03:22.054Z"
   },
   {
    "duration": 15,
    "start_time": "2022-10-28T15:03:35.722Z"
   },
   {
    "duration": 8,
    "start_time": "2022-10-28T15:03:47.190Z"
   },
   {
    "duration": 32,
    "start_time": "2022-10-28T15:04:25.320Z"
   },
   {
    "duration": 3,
    "start_time": "2022-10-28T15:04:34.253Z"
   },
   {
    "duration": 9,
    "start_time": "2022-10-28T15:04:54.058Z"
   },
   {
    "duration": 4,
    "start_time": "2022-10-28T15:05:29.922Z"
   },
   {
    "duration": 9,
    "start_time": "2022-10-28T15:05:58.104Z"
   },
   {
    "duration": 6,
    "start_time": "2022-10-28T15:06:12.239Z"
   },
   {
    "duration": 31,
    "start_time": "2022-10-28T15:06:30.356Z"
   },
   {
    "duration": 10,
    "start_time": "2022-10-28T15:06:34.187Z"
   },
   {
    "duration": 4,
    "start_time": "2022-10-28T15:06:39.613Z"
   },
   {
    "duration": 12,
    "start_time": "2022-10-28T15:06:46.039Z"
   },
   {
    "duration": 19,
    "start_time": "2022-10-28T15:07:12.191Z"
   },
   {
    "duration": 18,
    "start_time": "2022-10-28T15:07:15.167Z"
   },
   {
    "duration": 3,
    "start_time": "2022-10-28T15:07:40.642Z"
   },
   {
    "duration": 9,
    "start_time": "2022-10-28T15:07:44.907Z"
   },
   {
    "duration": 6,
    "start_time": "2022-10-28T15:07:49.996Z"
   },
   {
    "duration": 3,
    "start_time": "2022-10-28T15:08:05.063Z"
   },
   {
    "duration": 9,
    "start_time": "2022-10-28T15:08:09.215Z"
   },
   {
    "duration": 491,
    "start_time": "2022-10-28T15:19:38.783Z"
   },
   {
    "duration": 9,
    "start_time": "2022-10-28T15:20:32.080Z"
   },
   {
    "duration": 5,
    "start_time": "2022-10-28T15:23:48.896Z"
   },
   {
    "duration": 9,
    "start_time": "2022-10-28T15:28:15.565Z"
   },
   {
    "duration": 79,
    "start_time": "2022-10-28T15:50:02.114Z"
   },
   {
    "duration": 57,
    "start_time": "2022-10-28T15:50:06.823Z"
   },
   {
    "duration": 103,
    "start_time": "2022-10-28T15:50:15.326Z"
   },
   {
    "duration": 3,
    "start_time": "2022-10-28T16:39:12.284Z"
   },
   {
    "duration": 16,
    "start_time": "2022-10-28T16:45:07.762Z"
   },
   {
    "duration": 14,
    "start_time": "2022-10-28T16:47:42.564Z"
   },
   {
    "duration": 13,
    "start_time": "2022-10-28T16:49:28.599Z"
   },
   {
    "duration": 16,
    "start_time": "2022-10-28T16:52:23.916Z"
   },
   {
    "duration": 17,
    "start_time": "2022-10-28T16:55:37.549Z"
   },
   {
    "duration": 8,
    "start_time": "2022-10-28T16:56:21.866Z"
   },
   {
    "duration": 8,
    "start_time": "2022-10-28T16:56:28.300Z"
   },
   {
    "duration": 11,
    "start_time": "2022-10-28T16:56:32.943Z"
   },
   {
    "duration": 4,
    "start_time": "2022-10-28T16:56:36.398Z"
   },
   {
    "duration": 4,
    "start_time": "2022-10-28T16:56:40.186Z"
   },
   {
    "duration": 10,
    "start_time": "2022-10-28T16:56:41.543Z"
   },
   {
    "duration": 68,
    "start_time": "2022-10-28T16:56:46.560Z"
   },
   {
    "duration": 15,
    "start_time": "2022-10-28T16:56:48.484Z"
   },
   {
    "duration": 10,
    "start_time": "2022-10-28T16:57:43.342Z"
   },
   {
    "duration": 7,
    "start_time": "2022-10-28T16:58:01.119Z"
   },
   {
    "duration": 8,
    "start_time": "2022-10-28T16:58:14.750Z"
   },
   {
    "duration": 6,
    "start_time": "2022-10-28T16:58:33.245Z"
   },
   {
    "duration": 4,
    "start_time": "2022-10-28T16:58:35.600Z"
   },
   {
    "duration": 34,
    "start_time": "2022-10-28T16:58:37.412Z"
   },
   {
    "duration": 8,
    "start_time": "2022-10-28T16:59:05.526Z"
   },
   {
    "duration": 72,
    "start_time": "2022-10-28T16:59:15.693Z"
   },
   {
    "duration": 14,
    "start_time": "2022-10-28T16:59:18.384Z"
   },
   {
    "duration": 14,
    "start_time": "2022-10-28T16:59:20.710Z"
   },
   {
    "duration": 10,
    "start_time": "2022-10-28T16:59:23.404Z"
   },
   {
    "duration": 32,
    "start_time": "2022-10-28T16:59:24.599Z"
   },
   {
    "duration": 3,
    "start_time": "2022-10-28T16:59:26.371Z"
   },
   {
    "duration": 8,
    "start_time": "2022-10-28T16:59:27.471Z"
   },
   {
    "duration": 4,
    "start_time": "2022-10-28T16:59:29.863Z"
   },
   {
    "duration": 5,
    "start_time": "2022-10-28T16:59:31.063Z"
   },
   {
    "duration": 5,
    "start_time": "2022-10-28T16:59:32.624Z"
   },
   {
    "duration": 31,
    "start_time": "2022-10-28T16:59:34.953Z"
   },
   {
    "duration": 9,
    "start_time": "2022-10-28T16:59:36.298Z"
   },
   {
    "duration": 3,
    "start_time": "2022-10-28T16:59:38.094Z"
   },
   {
    "duration": 11,
    "start_time": "2022-10-28T16:59:39.743Z"
   },
   {
    "duration": 19,
    "start_time": "2022-10-28T16:59:40.810Z"
   },
   {
    "duration": 19,
    "start_time": "2022-10-28T16:59:41.345Z"
   },
   {
    "duration": 3,
    "start_time": "2022-10-28T16:59:43.051Z"
   },
   {
    "duration": 10,
    "start_time": "2022-10-28T16:59:43.691Z"
   },
   {
    "duration": 5,
    "start_time": "2022-10-28T16:59:44.799Z"
   },
   {
    "duration": 3,
    "start_time": "2022-10-28T16:59:45.951Z"
   },
   {
    "duration": 12,
    "start_time": "2022-10-28T16:59:46.488Z"
   },
   {
    "duration": 9,
    "start_time": "2022-10-28T16:59:48.584Z"
   },
   {
    "duration": 19,
    "start_time": "2022-10-28T17:01:34.722Z"
   },
   {
    "duration": 9,
    "start_time": "2022-10-28T17:02:02.193Z"
   },
   {
    "duration": 73,
    "start_time": "2022-10-28T17:02:16.459Z"
   },
   {
    "duration": 90,
    "start_time": "2022-10-28T17:02:27.743Z"
   },
   {
    "duration": 60,
    "start_time": "2022-10-28T17:02:51.499Z"
   },
   {
    "duration": 15,
    "start_time": "2022-10-28T17:03:06.973Z"
   },
   {
    "duration": 57,
    "start_time": "2022-10-28T17:04:07.743Z"
   },
   {
    "duration": 14,
    "start_time": "2022-10-28T17:04:24.821Z"
   },
   {
    "duration": 12,
    "start_time": "2022-10-28T17:05:35.185Z"
   },
   {
    "duration": 69,
    "start_time": "2022-10-28T17:06:02.486Z"
   },
   {
    "duration": 10,
    "start_time": "2022-10-28T17:06:17.965Z"
   },
   {
    "duration": 10,
    "start_time": "2022-10-28T17:06:30.946Z"
   },
   {
    "duration": 69,
    "start_time": "2022-10-28T17:07:00.537Z"
   },
   {
    "duration": 17,
    "start_time": "2022-10-28T17:07:18.950Z"
   },
   {
    "duration": 16,
    "start_time": "2022-10-28T17:07:44.698Z"
   },
   {
    "duration": 15,
    "start_time": "2022-10-28T17:08:57.613Z"
   },
   {
    "duration": 8,
    "start_time": "2022-10-28T17:09:18.645Z"
   },
   {
    "duration": 4,
    "start_time": "2022-10-28T17:14:49.505Z"
   },
   {
    "duration": 703,
    "start_time": "2022-10-28T17:16:38.242Z"
   },
   {
    "duration": 662,
    "start_time": "2022-10-28T17:16:47.220Z"
   },
   {
    "duration": 14,
    "start_time": "2022-10-28T17:18:06.316Z"
   },
   {
    "duration": 38,
    "start_time": "2022-10-28T17:20:37.277Z"
   },
   {
    "duration": 65,
    "start_time": "2022-10-28T17:20:50.740Z"
   },
   {
    "duration": 39,
    "start_time": "2022-10-28T17:21:06.745Z"
   },
   {
    "duration": 48,
    "start_time": "2022-10-28T17:21:35.845Z"
   },
   {
    "duration": 57,
    "start_time": "2022-10-28T17:21:56.596Z"
   },
   {
    "duration": 4,
    "start_time": "2022-10-28T17:26:16.350Z"
   },
   {
    "duration": 6,
    "start_time": "2022-10-28T17:26:33.168Z"
   },
   {
    "duration": 5,
    "start_time": "2022-10-28T17:29:23.978Z"
   },
   {
    "duration": 5,
    "start_time": "2022-10-28T17:29:43.868Z"
   },
   {
    "duration": 5,
    "start_time": "2022-10-28T17:30:12.349Z"
   },
   {
    "duration": 11,
    "start_time": "2022-10-28T18:11:51.444Z"
   },
   {
    "duration": 10,
    "start_time": "2022-10-28T18:34:11.511Z"
   },
   {
    "duration": 10,
    "start_time": "2022-10-28T18:34:16.215Z"
   },
   {
    "duration": 13,
    "start_time": "2022-10-28T18:34:37.320Z"
   },
   {
    "duration": 11,
    "start_time": "2022-10-28T18:34:48.075Z"
   },
   {
    "duration": 21,
    "start_time": "2022-10-28T18:37:00.674Z"
   },
   {
    "duration": 9,
    "start_time": "2022-10-28T18:37:46.350Z"
   },
   {
    "duration": 8,
    "start_time": "2022-10-28T18:39:18.994Z"
   },
   {
    "duration": 10,
    "start_time": "2022-10-28T18:39:27.616Z"
   },
   {
    "duration": 9,
    "start_time": "2022-10-28T18:39:53.657Z"
   },
   {
    "duration": 8,
    "start_time": "2022-10-28T18:41:01.069Z"
   },
   {
    "duration": 9,
    "start_time": "2022-10-28T18:41:16.393Z"
   },
   {
    "duration": 8,
    "start_time": "2022-10-28T18:41:45.323Z"
   },
   {
    "duration": 66,
    "start_time": "2022-10-28T18:42:26.028Z"
   },
   {
    "duration": 47,
    "start_time": "2022-10-28T18:42:30.400Z"
   },
   {
    "duration": 44,
    "start_time": "2022-10-28T18:43:18.867Z"
   },
   {
    "duration": 10,
    "start_time": "2022-10-28T18:46:01.282Z"
   },
   {
    "duration": 39,
    "start_time": "2022-10-28T18:46:10.138Z"
   },
   {
    "duration": 50,
    "start_time": "2022-10-28T18:46:24.951Z"
   },
   {
    "duration": 611,
    "start_time": "2022-10-28T18:47:28.824Z"
   },
   {
    "duration": 51,
    "start_time": "2022-10-28T18:51:30.414Z"
   },
   {
    "duration": 11,
    "start_time": "2022-10-28T18:51:38.182Z"
   },
   {
    "duration": 7,
    "start_time": "2022-10-28T18:56:12.687Z"
   },
   {
    "duration": 7,
    "start_time": "2022-10-28T18:56:36.297Z"
   },
   {
    "duration": 41,
    "start_time": "2022-10-28T18:57:06.613Z"
   },
   {
    "duration": 6,
    "start_time": "2022-10-28T18:57:18.837Z"
   },
   {
    "duration": 4,
    "start_time": "2022-10-28T18:58:13.195Z"
   },
   {
    "duration": 8,
    "start_time": "2022-10-28T18:59:49.670Z"
   },
   {
    "duration": 11,
    "start_time": "2022-10-28T19:00:14.934Z"
   },
   {
    "duration": 4,
    "start_time": "2022-10-28T19:01:55.674Z"
   },
   {
    "duration": 7,
    "start_time": "2022-10-28T19:02:26.417Z"
   },
   {
    "duration": 7,
    "start_time": "2022-10-28T19:03:02.953Z"
   },
   {
    "duration": 3,
    "start_time": "2022-10-28T19:03:57.992Z"
   },
   {
    "duration": 11,
    "start_time": "2022-10-28T19:04:20.140Z"
   },
   {
    "duration": 3,
    "start_time": "2022-10-28T19:05:57.167Z"
   },
   {
    "duration": 8,
    "start_time": "2022-10-28T19:07:44.721Z"
   },
   {
    "duration": 6,
    "start_time": "2022-10-28T19:09:59.010Z"
   },
   {
    "duration": 15,
    "start_time": "2022-10-28T19:12:24.553Z"
   },
   {
    "duration": 37,
    "start_time": "2022-10-28T19:12:59.872Z"
   },
   {
    "duration": 3,
    "start_time": "2022-10-28T19:14:27.091Z"
   },
   {
    "duration": 45,
    "start_time": "2022-10-28T19:15:00.719Z"
   },
   {
    "duration": 53,
    "start_time": "2022-10-28T19:15:09.945Z"
   },
   {
    "duration": 8,
    "start_time": "2022-10-28T19:15:21.387Z"
   },
   {
    "duration": 8,
    "start_time": "2022-10-28T19:15:29.680Z"
   },
   {
    "duration": 37,
    "start_time": "2022-10-28T19:30:56.211Z"
   },
   {
    "duration": 35,
    "start_time": "2022-10-28T19:31:07.056Z"
   },
   {
    "duration": 25,
    "start_time": "2022-10-28T19:31:41.181Z"
   },
   {
    "duration": 7,
    "start_time": "2022-10-28T19:36:37.658Z"
   },
   {
    "duration": 7,
    "start_time": "2022-10-28T19:44:24.878Z"
   },
   {
    "duration": 27,
    "start_time": "2022-10-28T19:45:11.340Z"
   },
   {
    "duration": 27,
    "start_time": "2022-10-28T19:45:54.634Z"
   },
   {
    "duration": 27,
    "start_time": "2022-10-28T19:46:11.565Z"
   },
   {
    "duration": 13,
    "start_time": "2022-10-28T20:01:48.736Z"
   },
   {
    "duration": 38,
    "start_time": "2022-10-28T20:02:17.192Z"
   },
   {
    "duration": 10,
    "start_time": "2022-10-28T20:02:22.587Z"
   },
   {
    "duration": 14,
    "start_time": "2022-10-28T20:06:36.425Z"
   },
   {
    "duration": 11,
    "start_time": "2022-10-28T20:07:21.421Z"
   },
   {
    "duration": 27,
    "start_time": "2022-10-28T20:24:52.916Z"
   },
   {
    "duration": 29,
    "start_time": "2022-10-28T20:25:09.632Z"
   },
   {
    "duration": 30,
    "start_time": "2022-10-28T20:26:06.221Z"
   },
   {
    "duration": 3,
    "start_time": "2022-10-28T20:26:36.999Z"
   },
   {
    "duration": 44,
    "start_time": "2022-10-28T21:58:34.701Z"
   },
   {
    "duration": 819,
    "start_time": "2022-10-28T21:58:54.804Z"
   },
   {
    "duration": 28,
    "start_time": "2022-10-28T21:58:57.225Z"
   },
   {
    "duration": 16,
    "start_time": "2022-10-28T21:59:00.695Z"
   },
   {
    "duration": 10,
    "start_time": "2022-10-28T21:59:03.890Z"
   },
   {
    "duration": 31,
    "start_time": "2022-10-28T21:59:05.095Z"
   },
   {
    "duration": 3,
    "start_time": "2022-10-28T21:59:07.387Z"
   },
   {
    "duration": 7,
    "start_time": "2022-10-28T21:59:08.529Z"
   },
   {
    "duration": 4,
    "start_time": "2022-10-28T21:59:10.693Z"
   },
   {
    "duration": 6,
    "start_time": "2022-10-28T21:59:12.112Z"
   },
   {
    "duration": 4,
    "start_time": "2022-10-28T21:59:13.819Z"
   },
   {
    "duration": 41,
    "start_time": "2022-10-28T21:59:16.020Z"
   },
   {
    "duration": 11,
    "start_time": "2022-10-28T21:59:17.445Z"
   },
   {
    "duration": 4,
    "start_time": "2022-10-28T21:59:19.409Z"
   },
   {
    "duration": 15,
    "start_time": "2022-10-28T21:59:21.073Z"
   },
   {
    "duration": 19,
    "start_time": "2022-10-28T21:59:22.041Z"
   },
   {
    "duration": 18,
    "start_time": "2022-10-28T21:59:22.912Z"
   },
   {
    "duration": 4,
    "start_time": "2022-10-28T21:59:24.656Z"
   },
   {
    "duration": 9,
    "start_time": "2022-10-28T21:59:25.262Z"
   },
   {
    "duration": 5,
    "start_time": "2022-10-28T21:59:26.347Z"
   },
   {
    "duration": 4,
    "start_time": "2022-10-28T21:59:27.356Z"
   },
   {
    "duration": 8,
    "start_time": "2022-10-28T21:59:27.882Z"
   },
   {
    "duration": 30,
    "start_time": "2022-10-28T21:59:30.021Z"
   },
   {
    "duration": 26,
    "start_time": "2022-10-28T21:59:30.989Z"
   },
   {
    "duration": 25,
    "start_time": "2022-10-28T22:31:54.111Z"
   },
   {
    "duration": 10,
    "start_time": "2022-10-28T22:32:00.287Z"
   },
   {
    "duration": 3,
    "start_time": "2022-10-28T22:32:18.920Z"
   },
   {
    "duration": 12,
    "start_time": "2022-10-28T22:32:34.156Z"
   },
   {
    "duration": 20,
    "start_time": "2022-10-28T22:32:49.654Z"
   },
   {
    "duration": 6,
    "start_time": "2022-10-28T22:32:53.498Z"
   },
   {
    "duration": 4,
    "start_time": "2022-10-28T22:33:21.313Z"
   },
   {
    "duration": 56,
    "start_time": "2022-10-28T22:35:43.970Z"
   },
   {
    "duration": 3,
    "start_time": "2022-10-28T22:36:06.312Z"
   },
   {
    "duration": 4,
    "start_time": "2022-10-28T22:36:19.625Z"
   },
   {
    "duration": 8,
    "start_time": "2022-10-28T22:36:25.677Z"
   },
   {
    "duration": 15,
    "start_time": "2022-10-28T22:41:59.317Z"
   },
   {
    "duration": 10,
    "start_time": "2022-10-28T22:49:15.049Z"
   },
   {
    "duration": 4,
    "start_time": "2022-10-28T22:49:22.422Z"
   },
   {
    "duration": 3,
    "start_time": "2022-10-28T22:49:28.587Z"
   },
   {
    "duration": 9,
    "start_time": "2022-10-28T22:49:48.052Z"
   },
   {
    "duration": 11,
    "start_time": "2022-10-28T22:49:58.464Z"
   },
   {
    "duration": 28,
    "start_time": "2022-10-28T22:50:03.074Z"
   },
   {
    "duration": 14,
    "start_time": "2022-10-28T22:50:41.265Z"
   },
   {
    "duration": 26,
    "start_time": "2022-10-28T22:50:52.148Z"
   },
   {
    "duration": 29,
    "start_time": "2022-10-28T22:51:00.585Z"
   },
   {
    "duration": 481,
    "start_time": "2022-10-28T22:52:44.714Z"
   },
   {
    "duration": 20,
    "start_time": "2022-10-28T22:52:45.197Z"
   },
   {
    "duration": 14,
    "start_time": "2022-10-28T22:52:45.218Z"
   },
   {
    "duration": 9,
    "start_time": "2022-10-28T22:52:45.234Z"
   },
   {
    "duration": 37,
    "start_time": "2022-10-28T22:52:45.244Z"
   },
   {
    "duration": 4,
    "start_time": "2022-10-28T22:52:45.282Z"
   },
   {
    "duration": 11,
    "start_time": "2022-10-28T22:52:45.287Z"
   },
   {
    "duration": 11,
    "start_time": "2022-10-28T22:52:45.299Z"
   },
   {
    "duration": 15,
    "start_time": "2022-10-28T22:52:45.311Z"
   },
   {
    "duration": 8,
    "start_time": "2022-10-28T22:52:45.330Z"
   },
   {
    "duration": 32,
    "start_time": "2022-10-28T22:52:45.339Z"
   },
   {
    "duration": 9,
    "start_time": "2022-10-28T22:52:45.373Z"
   },
   {
    "duration": 4,
    "start_time": "2022-10-28T22:52:45.383Z"
   },
   {
    "duration": 15,
    "start_time": "2022-10-28T22:52:45.388Z"
   },
   {
    "duration": 18,
    "start_time": "2022-10-28T22:52:45.422Z"
   },
   {
    "duration": 15,
    "start_time": "2022-10-28T22:52:45.441Z"
   },
   {
    "duration": 3,
    "start_time": "2022-10-28T22:52:45.458Z"
   },
   {
    "duration": 19,
    "start_time": "2022-10-28T22:52:45.462Z"
   },
   {
    "duration": 11,
    "start_time": "2022-10-28T22:52:45.482Z"
   },
   {
    "duration": 4,
    "start_time": "2022-10-28T22:52:45.494Z"
   },
   {
    "duration": 24,
    "start_time": "2022-10-28T22:52:45.499Z"
   },
   {
    "duration": 25,
    "start_time": "2022-10-28T22:52:45.524Z"
   },
   {
    "duration": 10,
    "start_time": "2022-10-28T22:52:45.551Z"
   },
   {
    "duration": 3,
    "start_time": "2022-10-28T22:52:45.563Z"
   },
   {
    "duration": 12,
    "start_time": "2022-10-28T22:52:45.567Z"
   },
   {
    "duration": 7,
    "start_time": "2022-10-28T22:52:45.581Z"
   },
   {
    "duration": 33,
    "start_time": "2022-10-28T22:52:45.590Z"
   },
   {
    "duration": 13,
    "start_time": "2022-10-28T22:52:45.625Z"
   },
   {
    "duration": 28,
    "start_time": "2022-10-28T22:52:45.640Z"
   },
   {
    "duration": 55,
    "start_time": "2022-10-28T22:52:45.669Z"
   },
   {
    "duration": 98,
    "start_time": "2022-10-29T08:11:16.244Z"
   },
   {
    "duration": 90,
    "start_time": "2022-10-29T13:11:45.703Z"
   },
   {
    "duration": 770,
    "start_time": "2022-10-29T13:25:52.142Z"
   },
   {
    "duration": 28,
    "start_time": "2022-10-29T13:25:52.914Z"
   },
   {
    "duration": 15,
    "start_time": "2022-10-29T13:25:52.944Z"
   },
   {
    "duration": 10,
    "start_time": "2022-10-29T13:25:52.961Z"
   },
   {
    "duration": 60,
    "start_time": "2022-10-29T13:25:52.972Z"
   },
   {
    "duration": 4,
    "start_time": "2022-10-29T13:25:53.034Z"
   },
   {
    "duration": 11,
    "start_time": "2022-10-29T13:25:53.040Z"
   },
   {
    "duration": 4,
    "start_time": "2022-10-29T13:25:53.052Z"
   },
   {
    "duration": 11,
    "start_time": "2022-10-29T13:25:53.058Z"
   },
   {
    "duration": 4,
    "start_time": "2022-10-29T13:25:53.073Z"
   },
   {
    "duration": 58,
    "start_time": "2022-10-29T13:25:53.079Z"
   },
   {
    "duration": 10,
    "start_time": "2022-10-29T13:25:53.138Z"
   },
   {
    "duration": 8,
    "start_time": "2022-10-29T13:25:53.149Z"
   },
   {
    "duration": 15,
    "start_time": "2022-10-29T13:25:53.158Z"
   },
   {
    "duration": 19,
    "start_time": "2022-10-29T13:25:53.174Z"
   },
   {
    "duration": 38,
    "start_time": "2022-10-29T13:25:53.194Z"
   },
   {
    "duration": 3,
    "start_time": "2022-10-29T13:25:53.234Z"
   },
   {
    "duration": 12,
    "start_time": "2022-10-29T13:25:53.239Z"
   },
   {
    "duration": 5,
    "start_time": "2022-10-29T13:25:53.252Z"
   },
   {
    "duration": 4,
    "start_time": "2022-10-29T13:25:53.258Z"
   },
   {
    "duration": 11,
    "start_time": "2022-10-29T13:25:53.264Z"
   },
   {
    "duration": 25,
    "start_time": "2022-10-29T13:25:53.276Z"
   },
   {
    "duration": 40,
    "start_time": "2022-10-29T13:25:53.303Z"
   },
   {
    "duration": 4,
    "start_time": "2022-10-29T13:25:53.344Z"
   },
   {
    "duration": 10,
    "start_time": "2022-10-29T13:25:53.350Z"
   },
   {
    "duration": 5,
    "start_time": "2022-10-29T13:25:53.361Z"
   },
   {
    "duration": 10,
    "start_time": "2022-10-29T13:25:53.367Z"
   },
   {
    "duration": 13,
    "start_time": "2022-10-29T13:25:53.380Z"
   },
   {
    "duration": 61,
    "start_time": "2022-10-29T13:25:53.395Z"
   },
   {
    "duration": 27,
    "start_time": "2022-10-29T13:25:53.458Z"
   },
   {
    "duration": 475,
    "start_time": "2022-10-29T13:31:06.405Z"
   },
   {
    "duration": 20,
    "start_time": "2022-10-29T13:31:06.881Z"
   },
   {
    "duration": 14,
    "start_time": "2022-10-29T13:31:06.903Z"
   },
   {
    "duration": 20,
    "start_time": "2022-10-29T13:31:06.918Z"
   },
   {
    "duration": 32,
    "start_time": "2022-10-29T13:31:06.939Z"
   },
   {
    "duration": 3,
    "start_time": "2022-10-29T13:31:06.972Z"
   },
   {
    "duration": 12,
    "start_time": "2022-10-29T13:31:06.977Z"
   },
   {
    "duration": 5,
    "start_time": "2022-10-29T13:31:06.991Z"
   },
   {
    "duration": 10,
    "start_time": "2022-10-29T13:31:06.997Z"
   },
   {
    "duration": 25,
    "start_time": "2022-10-29T13:31:07.009Z"
   },
   {
    "duration": 55,
    "start_time": "2022-10-29T13:31:07.036Z"
   },
   {
    "duration": 9,
    "start_time": "2022-10-29T13:31:07.092Z"
   },
   {
    "duration": 5,
    "start_time": "2022-10-29T13:31:07.103Z"
   },
   {
    "duration": 23,
    "start_time": "2022-10-29T13:31:07.109Z"
   },
   {
    "duration": 28,
    "start_time": "2022-10-29T13:31:07.134Z"
   },
   {
    "duration": 16,
    "start_time": "2022-10-29T13:31:07.163Z"
   },
   {
    "duration": 4,
    "start_time": "2022-10-29T13:31:07.181Z"
   },
   {
    "duration": 14,
    "start_time": "2022-10-29T13:31:07.187Z"
   },
   {
    "duration": 10,
    "start_time": "2022-10-29T13:31:07.202Z"
   },
   {
    "duration": 9,
    "start_time": "2022-10-29T13:31:07.222Z"
   },
   {
    "duration": 13,
    "start_time": "2022-10-29T13:31:07.233Z"
   },
   {
    "duration": 36,
    "start_time": "2022-10-29T13:31:07.248Z"
   },
   {
    "duration": 12,
    "start_time": "2022-10-29T13:31:07.286Z"
   },
   {
    "duration": 3,
    "start_time": "2022-10-29T13:31:07.300Z"
   },
   {
    "duration": 11,
    "start_time": "2022-10-29T13:31:07.327Z"
   },
   {
    "duration": 6,
    "start_time": "2022-10-29T13:31:07.340Z"
   },
   {
    "duration": 13,
    "start_time": "2022-10-29T13:31:07.348Z"
   },
   {
    "duration": 15,
    "start_time": "2022-10-29T13:31:07.364Z"
   },
   {
    "duration": 26,
    "start_time": "2022-10-29T13:31:07.380Z"
   },
   {
    "duration": 28,
    "start_time": "2022-10-29T13:31:07.428Z"
   },
   {
    "duration": 418,
    "start_time": "2022-10-29T13:34:00.986Z"
   },
   {
    "duration": 30,
    "start_time": "2022-10-29T13:34:01.406Z"
   },
   {
    "duration": 21,
    "start_time": "2022-10-29T13:34:01.441Z"
   },
   {
    "duration": 11,
    "start_time": "2022-10-29T13:34:01.463Z"
   },
   {
    "duration": 39,
    "start_time": "2022-10-29T13:34:01.475Z"
   },
   {
    "duration": 3,
    "start_time": "2022-10-29T13:34:01.515Z"
   },
   {
    "duration": 18,
    "start_time": "2022-10-29T13:34:01.532Z"
   },
   {
    "duration": 7,
    "start_time": "2022-10-29T13:34:01.552Z"
   },
   {
    "duration": 7,
    "start_time": "2022-10-29T13:34:01.563Z"
   },
   {
    "duration": 8,
    "start_time": "2022-10-29T13:34:01.572Z"
   },
   {
    "duration": 36,
    "start_time": "2022-10-29T13:34:01.582Z"
   },
   {
    "duration": 17,
    "start_time": "2022-10-29T13:34:01.619Z"
   },
   {
    "duration": 8,
    "start_time": "2022-10-29T13:34:01.638Z"
   },
   {
    "duration": 28,
    "start_time": "2022-10-29T13:34:01.648Z"
   },
   {
    "duration": 22,
    "start_time": "2022-10-29T13:34:01.678Z"
   },
   {
    "duration": 15,
    "start_time": "2022-10-29T13:34:01.702Z"
   },
   {
    "duration": 13,
    "start_time": "2022-10-29T13:34:01.719Z"
   },
   {
    "duration": 15,
    "start_time": "2022-10-29T13:34:01.733Z"
   },
   {
    "duration": 9,
    "start_time": "2022-10-29T13:34:01.749Z"
   },
   {
    "duration": 4,
    "start_time": "2022-10-29T13:34:01.759Z"
   },
   {
    "duration": 13,
    "start_time": "2022-10-29T13:34:01.764Z"
   },
   {
    "duration": 54,
    "start_time": "2022-10-29T13:34:01.778Z"
   },
   {
    "duration": 12,
    "start_time": "2022-10-29T13:34:01.834Z"
   },
   {
    "duration": 12,
    "start_time": "2022-10-29T13:34:01.847Z"
   },
   {
    "duration": 19,
    "start_time": "2022-10-29T13:34:01.860Z"
   },
   {
    "duration": 11,
    "start_time": "2022-10-29T13:34:01.880Z"
   },
   {
    "duration": 13,
    "start_time": "2022-10-29T13:34:01.894Z"
   },
   {
    "duration": 31,
    "start_time": "2022-10-29T13:34:01.909Z"
   },
   {
    "duration": 32,
    "start_time": "2022-10-29T13:34:01.941Z"
   },
   {
    "duration": 28,
    "start_time": "2022-10-29T13:34:01.974Z"
   },
   {
    "duration": 569,
    "start_time": "2022-10-29T16:45:21.365Z"
   },
   {
    "duration": 23,
    "start_time": "2022-10-29T16:45:21.936Z"
   },
   {
    "duration": 18,
    "start_time": "2022-10-29T16:45:21.961Z"
   },
   {
    "duration": 15,
    "start_time": "2022-10-29T16:45:21.981Z"
   },
   {
    "duration": 31,
    "start_time": "2022-10-29T16:45:21.997Z"
   },
   {
    "duration": 3,
    "start_time": "2022-10-29T16:45:22.030Z"
   },
   {
    "duration": 9,
    "start_time": "2022-10-29T16:45:22.035Z"
   },
   {
    "duration": 4,
    "start_time": "2022-10-29T16:45:22.045Z"
   },
   {
    "duration": 8,
    "start_time": "2022-10-29T16:45:22.050Z"
   },
   {
    "duration": 5,
    "start_time": "2022-10-29T16:45:22.090Z"
   },
   {
    "duration": 33,
    "start_time": "2022-10-29T16:45:22.097Z"
   },
   {
    "duration": 11,
    "start_time": "2022-10-29T16:45:22.132Z"
   },
   {
    "duration": 6,
    "start_time": "2022-10-29T16:45:22.145Z"
   },
   {
    "duration": 43,
    "start_time": "2022-10-29T16:45:22.153Z"
   },
   {
    "duration": 31,
    "start_time": "2022-10-29T16:45:22.198Z"
   },
   {
    "duration": 25,
    "start_time": "2022-10-29T16:45:22.231Z"
   },
   {
    "duration": 3,
    "start_time": "2022-10-29T16:45:22.258Z"
   },
   {
    "duration": 41,
    "start_time": "2022-10-29T16:45:22.263Z"
   },
   {
    "duration": 8,
    "start_time": "2022-10-29T16:45:22.306Z"
   },
   {
    "duration": 5,
    "start_time": "2022-10-29T16:45:22.316Z"
   },
   {
    "duration": 10,
    "start_time": "2022-10-29T16:45:22.323Z"
   },
   {
    "duration": 30,
    "start_time": "2022-10-29T16:45:22.335Z"
   },
   {
    "duration": 35,
    "start_time": "2022-10-29T16:45:22.367Z"
   },
   {
    "duration": 3,
    "start_time": "2022-10-29T16:45:22.404Z"
   },
   {
    "duration": 11,
    "start_time": "2022-10-29T16:45:22.409Z"
   },
   {
    "duration": 4,
    "start_time": "2022-10-29T16:45:22.422Z"
   },
   {
    "duration": 12,
    "start_time": "2022-10-29T16:45:22.428Z"
   },
   {
    "duration": 52,
    "start_time": "2022-10-29T16:45:22.443Z"
   },
   {
    "duration": 27,
    "start_time": "2022-10-29T16:45:22.497Z"
   },
   {
    "duration": 30,
    "start_time": "2022-10-29T16:45:22.526Z"
   }
  ],
  "colab": {
   "name": "dpp_template_part2.ipynb",
   "provenance": []
  },
  "kernelspec": {
   "display_name": "Python 3 (ipykernel)",
   "language": "python",
   "name": "python3"
  },
  "language_info": {
   "codemirror_mode": {
    "name": "ipython",
    "version": 3
   },
   "file_extension": ".py",
   "mimetype": "text/x-python",
   "name": "python",
   "nbconvert_exporter": "python",
   "pygments_lexer": "ipython3",
   "version": "3.9.12"
  },
  "toc": {
   "base_numbering": 1,
   "nav_menu": {},
   "number_sections": true,
   "sideBar": true,
   "skip_h1_title": true,
   "title_cell": "Table of Contents",
   "title_sidebar": "Contents",
   "toc_cell": false,
   "toc_position": {},
   "toc_section_display": true,
   "toc_window_display": false
  }
 },
 "nbformat": 4,
 "nbformat_minor": 5
}
