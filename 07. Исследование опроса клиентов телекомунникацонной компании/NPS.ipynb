{
 "cells": [
  {
   "cell_type": "code",
   "execution_count": 1,
   "id": "fc7efa54",
   "metadata": {},
   "outputs": [],
   "source": [
    "import os\n",
    "import pandas as pd\n",
    "import numpy as np\n",
    "\n",
    "from sqlalchemy import create_engine"
   ]
  },
  {
   "cell_type": "code",
   "execution_count": 2,
   "id": "0017f8e7",
   "metadata": {},
   "outputs": [],
   "source": [
    "path_to_db_local = 'telecomm_csi.db'\n",
    "path_to_db_platform = '/datasets/telecomm_csi.db'\n",
    "path_to_db = None\n",
    "\n",
    "if os.path.exists(path_to_db_local):\n",
    "    path_to_db = path_to_db_local\n",
    "elif os.path.exists(path_to_db_platform):\n",
    "    path_to_db = path_to_db_platform\n",
    "else:\n",
    "    raise Exception('Файл с базой данных SQLite не найден!')\n",
    "\n",
    "if path_to_db:\n",
    "    engine = create_engine(f'sqlite:///{path_to_db}', echo=False)"
   ]
  },
  {
   "cell_type": "code",
   "execution_count": 3,
   "id": "84ebad43",
   "metadata": {},
   "outputs": [],
   "source": [
    "query = \"\"\"\n",
    "SELECT u.user_id,\n",
    "       u.lt_day,\n",
    "       CASE\n",
    "           WHEN u.lt_day < 365 THEN 'new'\n",
    "           ELSE 'old'\n",
    "       END AS is_new,\n",
    "       u.age,\n",
    "       CASE\n",
    "           WHEN u.gender_segment = 1 THEN 'women'\n",
    "           WHEN u.gender_segment = 0 THEN 'men'\n",
    "           ELSE 'n/a'\n",
    "       END gender_segment,\n",
    "       u.os_name,\n",
    "       u.cpe_type_name,\n",
    "       l.country,\n",
    "       l.city,\n",
    "       substr(ages.title, -5, 5) AS age_segment,\n",
    "       ts.title AS traffic_segment,\n",
    "       ls.title AS lifetime_segment,\n",
    "       u.nps_score,\n",
    "       CASE\n",
    "           WHEN u.nps_score >=9 THEN 'promoters'\n",
    "           WHEN u.nps_score >=7 THEN 'passives'\n",
    "           ELSE 'detractors'\n",
    "       END nps_group\n",
    "FROM USER AS u\n",
    "JOIN LOCATION AS l ON l. location_id = u.location_id\n",
    "JOIN age_segment AS ages ON ages.age_gr_id = u.age_gr_id\n",
    "JOIN traffic_segment AS ts ON ts.tr_gr_id = u.tr_gr_id\n",
    "JOIN lifetime_segment AS ls ON ls.lt_gr_id = u.lt_gr_id\n",
    "\n",
    "\"\"\""
   ]
  },
  {
   "cell_type": "code",
   "execution_count": 4,
   "id": "3965faf2",
   "metadata": {},
   "outputs": [
    {
     "data": {
      "text/html": [
       "<div>\n",
       "<style scoped>\n",
       "    .dataframe tbody tr th:only-of-type {\n",
       "        vertical-align: middle;\n",
       "    }\n",
       "\n",
       "    .dataframe tbody tr th {\n",
       "        vertical-align: top;\n",
       "    }\n",
       "\n",
       "    .dataframe thead th {\n",
       "        text-align: right;\n",
       "    }\n",
       "</style>\n",
       "<table border=\"1\" class=\"dataframe\">\n",
       "  <thead>\n",
       "    <tr style=\"text-align: right;\">\n",
       "      <th></th>\n",
       "      <th>user_id</th>\n",
       "      <th>lt_day</th>\n",
       "      <th>is_new</th>\n",
       "      <th>age</th>\n",
       "      <th>gender_segment</th>\n",
       "      <th>os_name</th>\n",
       "      <th>cpe_type_name</th>\n",
       "      <th>country</th>\n",
       "      <th>city</th>\n",
       "      <th>age_segment</th>\n",
       "      <th>traffic_segment</th>\n",
       "      <th>lifetime_segment</th>\n",
       "      <th>nps_score</th>\n",
       "      <th>nps_group</th>\n",
       "    </tr>\n",
       "  </thead>\n",
       "  <tbody>\n",
       "    <tr>\n",
       "      <th>0</th>\n",
       "      <td>A001A2</td>\n",
       "      <td>2320</td>\n",
       "      <td>old</td>\n",
       "      <td>45.0</td>\n",
       "      <td>women</td>\n",
       "      <td>ANDROID</td>\n",
       "      <td>SMARTPHONE</td>\n",
       "      <td>Россия</td>\n",
       "      <td>Уфа</td>\n",
       "      <td>45-54</td>\n",
       "      <td>04 1-5</td>\n",
       "      <td>08 36+</td>\n",
       "      <td>10</td>\n",
       "      <td>promoters</td>\n",
       "    </tr>\n",
       "    <tr>\n",
       "      <th>1</th>\n",
       "      <td>A001WF</td>\n",
       "      <td>2344</td>\n",
       "      <td>old</td>\n",
       "      <td>53.0</td>\n",
       "      <td>men</td>\n",
       "      <td>ANDROID</td>\n",
       "      <td>SMARTPHONE</td>\n",
       "      <td>Россия</td>\n",
       "      <td>Киров</td>\n",
       "      <td>45-54</td>\n",
       "      <td>04 1-5</td>\n",
       "      <td>08 36+</td>\n",
       "      <td>10</td>\n",
       "      <td>promoters</td>\n",
       "    </tr>\n",
       "    <tr>\n",
       "      <th>2</th>\n",
       "      <td>A003Q7</td>\n",
       "      <td>467</td>\n",
       "      <td>old</td>\n",
       "      <td>57.0</td>\n",
       "      <td>men</td>\n",
       "      <td>ANDROID</td>\n",
       "      <td>SMARTPHONE</td>\n",
       "      <td>Россия</td>\n",
       "      <td>Москва</td>\n",
       "      <td>55-64</td>\n",
       "      <td>08 20-25</td>\n",
       "      <td>06 13-24</td>\n",
       "      <td>10</td>\n",
       "      <td>promoters</td>\n",
       "    </tr>\n",
       "    <tr>\n",
       "      <th>3</th>\n",
       "      <td>A004TB</td>\n",
       "      <td>4190</td>\n",
       "      <td>old</td>\n",
       "      <td>44.0</td>\n",
       "      <td>women</td>\n",
       "      <td>IOS</td>\n",
       "      <td>SMARTPHONE</td>\n",
       "      <td>Россия</td>\n",
       "      <td>РостовнаДону</td>\n",
       "      <td>35-44</td>\n",
       "      <td>03 0.1-1</td>\n",
       "      <td>08 36+</td>\n",
       "      <td>10</td>\n",
       "      <td>promoters</td>\n",
       "    </tr>\n",
       "    <tr>\n",
       "      <th>4</th>\n",
       "      <td>A004XT</td>\n",
       "      <td>1163</td>\n",
       "      <td>old</td>\n",
       "      <td>24.0</td>\n",
       "      <td>men</td>\n",
       "      <td>ANDROID</td>\n",
       "      <td>SMARTPHONE</td>\n",
       "      <td>Россия</td>\n",
       "      <td>Рязань</td>\n",
       "      <td>16-24</td>\n",
       "      <td>05 5-10</td>\n",
       "      <td>08 36+</td>\n",
       "      <td>10</td>\n",
       "      <td>promoters</td>\n",
       "    </tr>\n",
       "  </tbody>\n",
       "</table>\n",
       "</div>"
      ],
      "text/plain": [
       "  user_id  lt_day is_new   age gender_segment  os_name cpe_type_name country  \\\n",
       "0  A001A2    2320    old  45.0          women  ANDROID    SMARTPHONE  Россия   \n",
       "1  A001WF    2344    old  53.0            men  ANDROID    SMARTPHONE  Россия   \n",
       "2  A003Q7     467    old  57.0            men  ANDROID    SMARTPHONE  Россия   \n",
       "3  A004TB    4190    old  44.0          women      IOS    SMARTPHONE  Россия   \n",
       "4  A004XT    1163    old  24.0            men  ANDROID    SMARTPHONE  Россия   \n",
       "\n",
       "           city age_segment traffic_segment lifetime_segment  nps_score  \\\n",
       "0           Уфа       45-54          04 1-5           08 36+         10   \n",
       "1         Киров       45-54          04 1-5           08 36+         10   \n",
       "2        Москва       55-64        08 20-25         06 13-24         10   \n",
       "3  РостовнаДону       35-44        03 0.1-1           08 36+         10   \n",
       "4        Рязань       16-24         05 5-10           08 36+         10   \n",
       "\n",
       "   nps_group  \n",
       "0  promoters  \n",
       "1  promoters  \n",
       "2  promoters  \n",
       "3  promoters  \n",
       "4  promoters  "
      ]
     },
     "execution_count": 4,
     "metadata": {},
     "output_type": "execute_result"
    }
   ],
   "source": [
    "df = pd.read_sql(query, engine)\n",
    "df.head(5)"
   ]
  },
  {
   "cell_type": "code",
   "execution_count": 5,
   "id": "eaf4a2ec",
   "metadata": {},
   "outputs": [
    {
     "data": {
      "text/plain": [
       "array(['women', 'men', 'n/a'], dtype=object)"
      ]
     },
     "execution_count": 5,
     "metadata": {},
     "output_type": "execute_result"
    }
   ],
   "source": [
    "df['gender_segment'].unique()"
   ]
  },
  {
   "cell_type": "code",
   "execution_count": 6,
   "id": "e823f75f",
   "metadata": {},
   "outputs": [
    {
     "data": {
      "text/html": [
       "<div>\n",
       "<style scoped>\n",
       "    .dataframe tbody tr th:only-of-type {\n",
       "        vertical-align: middle;\n",
       "    }\n",
       "\n",
       "    .dataframe tbody tr th {\n",
       "        vertical-align: top;\n",
       "    }\n",
       "\n",
       "    .dataframe thead th {\n",
       "        text-align: right;\n",
       "    }\n",
       "</style>\n",
       "<table border=\"1\" class=\"dataframe\">\n",
       "  <thead>\n",
       "    <tr style=\"text-align: right;\">\n",
       "      <th></th>\n",
       "      <th>gender</th>\n",
       "      <th>count</th>\n",
       "      <th>%</th>\n",
       "    </tr>\n",
       "  </thead>\n",
       "  <tbody>\n",
       "    <tr>\n",
       "      <th>0</th>\n",
       "      <td>women</td>\n",
       "      <td>272442</td>\n",
       "      <td>54.2</td>\n",
       "    </tr>\n",
       "    <tr>\n",
       "      <th>1</th>\n",
       "      <td>men</td>\n",
       "      <td>228750</td>\n",
       "      <td>45.5</td>\n",
       "    </tr>\n",
       "    <tr>\n",
       "      <th>2</th>\n",
       "      <td>n/a</td>\n",
       "      <td>1301</td>\n",
       "      <td>0.3</td>\n",
       "    </tr>\n",
       "  </tbody>\n",
       "</table>\n",
       "</div>"
      ],
      "text/plain": [
       "  gender   count     %\n",
       "0  women  272442  54.2\n",
       "1    men  228750  45.5\n",
       "2    n/a    1301   0.3"
      ]
     },
     "execution_count": 6,
     "metadata": {},
     "output_type": "execute_result"
    }
   ],
   "source": [
    "gender = df.pivot_table(index='gender_segment', values='user_id', aggfunc=['count']) \\\n",
    "                                .sort_values(by=([('count', 'user_id')]), ascending=False)\n",
    "gender = gender.reset_index()\n",
    "gender.columns = ['gender', 'count']\n",
    "gender['%'] = (100 * gender['count']/gender['count'].sum()).round(1)\n",
    "gender"
   ]
  },
  {
   "cell_type": "code",
   "execution_count": 7,
   "id": "416d9ff3",
   "metadata": {},
   "outputs": [
    {
     "data": {
      "text/html": [
       "<div>\n",
       "<style scoped>\n",
       "    .dataframe tbody tr th:only-of-type {\n",
       "        vertical-align: middle;\n",
       "    }\n",
       "\n",
       "    .dataframe tbody tr th {\n",
       "        vertical-align: top;\n",
       "    }\n",
       "\n",
       "    .dataframe thead th {\n",
       "        text-align: right;\n",
       "    }\n",
       "</style>\n",
       "<table border=\"1\" class=\"dataframe\">\n",
       "  <thead>\n",
       "    <tr style=\"text-align: right;\">\n",
       "      <th></th>\n",
       "      <th>os_name</th>\n",
       "      <th>count</th>\n",
       "      <th>%</th>\n",
       "    </tr>\n",
       "  </thead>\n",
       "  <tbody>\n",
       "    <tr>\n",
       "      <th>0</th>\n",
       "      <td>ANDROID</td>\n",
       "      <td>435981</td>\n",
       "      <td>86.8</td>\n",
       "    </tr>\n",
       "    <tr>\n",
       "      <th>1</th>\n",
       "      <td>IOS</td>\n",
       "      <td>60051</td>\n",
       "      <td>12.0</td>\n",
       "    </tr>\n",
       "    <tr>\n",
       "      <th>2</th>\n",
       "      <td>PROPRIETARY</td>\n",
       "      <td>2491</td>\n",
       "      <td>0.5</td>\n",
       "    </tr>\n",
       "    <tr>\n",
       "      <th>3</th>\n",
       "      <td>OTHER</td>\n",
       "      <td>2394</td>\n",
       "      <td>0.5</td>\n",
       "    </tr>\n",
       "    <tr>\n",
       "      <th>4</th>\n",
       "      <td>WINDOWS PHONE</td>\n",
       "      <td>1297</td>\n",
       "      <td>0.3</td>\n",
       "    </tr>\n",
       "    <tr>\n",
       "      <th>5</th>\n",
       "      <td>unknown</td>\n",
       "      <td>133</td>\n",
       "      <td>0.0</td>\n",
       "    </tr>\n",
       "    <tr>\n",
       "      <th>6</th>\n",
       "      <td>SYMBIAN OS</td>\n",
       "      <td>103</td>\n",
       "      <td>0.0</td>\n",
       "    </tr>\n",
       "    <tr>\n",
       "      <th>7</th>\n",
       "      <td>BADA OS</td>\n",
       "      <td>40</td>\n",
       "      <td>0.0</td>\n",
       "    </tr>\n",
       "    <tr>\n",
       "      <th>8</th>\n",
       "      <td>WINDOWS MOBILE</td>\n",
       "      <td>3</td>\n",
       "      <td>0.0</td>\n",
       "    </tr>\n",
       "  </tbody>\n",
       "</table>\n",
       "</div>"
      ],
      "text/plain": [
       "          os_name   count     %\n",
       "0         ANDROID  435981  86.8\n",
       "1             IOS   60051  12.0\n",
       "2     PROPRIETARY    2491   0.5\n",
       "3           OTHER    2394   0.5\n",
       "4   WINDOWS PHONE    1297   0.3\n",
       "5         unknown     133   0.0\n",
       "6      SYMBIAN OS     103   0.0\n",
       "7         BADA OS      40   0.0\n",
       "8  WINDOWS MOBILE       3   0.0"
      ]
     },
     "execution_count": 7,
     "metadata": {},
     "output_type": "execute_result"
    }
   ],
   "source": [
    "os_name = df.pivot_table(index='os_name', values='user_id', aggfunc=['count']) \\\n",
    "                                .sort_values(by=([('count', 'user_id')]), ascending=False)\n",
    "os_name = os_name.reset_index()\n",
    "os_name.columns = ['os_name', 'count']\n",
    "os_name['%'] = (100 * os_name['count']/os_name['count'].sum()).round(1)\n",
    "os_name"
   ]
  },
  {
   "cell_type": "code",
   "execution_count": 8,
   "id": "9db04858",
   "metadata": {},
   "outputs": [],
   "source": [
    "df.to_csv('telecomm_csi_tableau.csv', index=False)"
   ]
  },
  {
   "cell_type": "markdown",
   "id": "2fb97561",
   "metadata": {},
   "source": [
    "[Дашборд](https://public.tableau.com/views/_NPS_Final/Dashboard1?:language=en-US&publish=yes&:display_count=n&:origin=viz_share_link)"
   ]
  },
  {
   "cell_type": "markdown",
   "id": "769b7482",
   "metadata": {},
   "source": [
    "[Презентация](https://disk.yandex.ru/i/Yc_gVE-Cu0OfDw)"
   ]
  }
 ],
 "metadata": {
  "ExecuteTimeLog": [
   {
    "duration": 9,
    "start_time": "2023-03-06T11:03:35.104Z"
   },
   {
    "duration": 566,
    "start_time": "2023-03-06T11:03:37.899Z"
   },
   {
    "duration": 83,
    "start_time": "2023-03-06T11:03:38.529Z"
   },
   {
    "duration": 3,
    "start_time": "2023-03-06T11:03:39.201Z"
   },
   {
    "duration": 2379,
    "start_time": "2023-03-06T11:03:39.939Z"
   },
   {
    "duration": 2361,
    "start_time": "2023-03-06T11:03:48.594Z"
   },
   {
    "duration": 2,
    "start_time": "2023-03-06T12:22:14.319Z"
   },
   {
    "duration": 600,
    "start_time": "2023-03-06T12:22:14.915Z"
   },
   {
    "duration": 2,
    "start_time": "2023-03-06T12:37:17.589Z"
   },
   {
    "duration": 5569,
    "start_time": "2023-03-06T12:37:18.756Z"
   },
   {
    "duration": 7,
    "start_time": "2023-03-06T14:43:37.316Z"
   },
   {
    "duration": 48,
    "start_time": "2023-03-06T14:43:39.475Z"
   },
   {
    "duration": 518,
    "start_time": "2023-03-06T14:43:47.478Z"
   },
   {
    "duration": 63,
    "start_time": "2023-03-06T14:43:47.998Z"
   },
   {
    "duration": 2,
    "start_time": "2023-03-06T14:43:50.046Z"
   },
   {
    "duration": 585,
    "start_time": "2023-03-06T14:43:50.900Z"
   },
   {
    "duration": 3,
    "start_time": "2023-03-06T14:52:06.321Z"
   },
   {
    "duration": 5143,
    "start_time": "2023-03-06T14:52:07.208Z"
   },
   {
    "duration": 4222,
    "start_time": "2023-03-06T14:52:15.325Z"
   },
   {
    "duration": 4,
    "start_time": "2023-03-06T15:05:09.218Z"
   },
   {
    "duration": 5078,
    "start_time": "2023-03-06T15:05:09.818Z"
   },
   {
    "duration": 2,
    "start_time": "2023-03-06T15:17:35.826Z"
   },
   {
    "duration": 4630,
    "start_time": "2023-03-06T15:17:36.776Z"
   },
   {
    "duration": 2,
    "start_time": "2023-03-06T15:18:06.573Z"
   },
   {
    "duration": 4582,
    "start_time": "2023-03-06T15:18:20.090Z"
   },
   {
    "duration": 559,
    "start_time": "2023-03-06T15:24:46.406Z"
   },
   {
    "duration": 65,
    "start_time": "2023-03-06T15:24:46.967Z"
   },
   {
    "duration": 3,
    "start_time": "2023-03-06T15:24:47.034Z"
   },
   {
    "duration": 5151,
    "start_time": "2023-03-06T15:24:47.039Z"
   },
   {
    "duration": 4955,
    "start_time": "2023-03-06T15:24:52.193Z"
   },
   {
    "duration": 47,
    "start_time": "2023-03-08T12:59:19.887Z"
   },
   {
    "duration": 561,
    "start_time": "2023-03-08T12:59:28.204Z"
   },
   {
    "duration": 77,
    "start_time": "2023-03-08T12:59:28.767Z"
   },
   {
    "duration": 3,
    "start_time": "2023-03-08T12:59:28.846Z"
   },
   {
    "duration": 5542,
    "start_time": "2023-03-08T12:59:28.850Z"
   },
   {
    "duration": 4321,
    "start_time": "2023-03-08T12:59:34.394Z"
   },
   {
    "duration": 568,
    "start_time": "2023-03-08T18:33:35.436Z"
   },
   {
    "duration": 86,
    "start_time": "2023-03-08T18:33:36.006Z"
   },
   {
    "duration": 3,
    "start_time": "2023-03-08T18:33:36.094Z"
   },
   {
    "duration": 6048,
    "start_time": "2023-03-08T18:33:36.098Z"
   },
   {
    "duration": 4372,
    "start_time": "2023-03-08T18:33:42.148Z"
   },
   {
    "duration": 585,
    "start_time": "2023-03-08T19:15:43.703Z"
   },
   {
    "duration": 83,
    "start_time": "2023-03-08T19:15:44.290Z"
   },
   {
    "duration": 5,
    "start_time": "2023-03-08T19:15:44.375Z"
   },
   {
    "duration": 5868,
    "start_time": "2023-03-08T19:15:44.382Z"
   },
   {
    "duration": 6210,
    "start_time": "2023-03-08T19:15:50.253Z"
   },
   {
    "duration": 620,
    "start_time": "2023-03-09T04:16:38.041Z"
   },
   {
    "duration": 65,
    "start_time": "2023-03-09T04:16:38.663Z"
   },
   {
    "duration": 3,
    "start_time": "2023-03-09T04:16:38.730Z"
   },
   {
    "duration": 5586,
    "start_time": "2023-03-09T04:16:38.735Z"
   },
   {
    "duration": 5403,
    "start_time": "2023-03-09T04:16:44.323Z"
   },
   {
    "duration": 5,
    "start_time": "2023-03-09T04:29:34.290Z"
   },
   {
    "duration": 8,
    "start_time": "2023-03-09T09:10:15.467Z"
   },
   {
    "duration": 45,
    "start_time": "2023-03-09T09:10:17.816Z"
   },
   {
    "duration": 473,
    "start_time": "2023-03-09T09:10:22.102Z"
   },
   {
    "duration": 68,
    "start_time": "2023-03-09T09:10:22.693Z"
   },
   {
    "duration": 3,
    "start_time": "2023-03-09T09:10:23.587Z"
   },
   {
    "duration": 4715,
    "start_time": "2023-03-09T09:10:24.515Z"
   },
   {
    "duration": 3,
    "start_time": "2023-03-09T09:14:31.997Z"
   },
   {
    "duration": 4400,
    "start_time": "2023-03-09T09:14:34.436Z"
   },
   {
    "duration": 86,
    "start_time": "2023-03-09T09:15:14.158Z"
   },
   {
    "duration": 3,
    "start_time": "2023-03-09T09:17:20.858Z"
   },
   {
    "duration": 4248,
    "start_time": "2023-03-09T09:17:21.614Z"
   },
   {
    "duration": 3,
    "start_time": "2023-03-09T09:17:52.811Z"
   },
   {
    "duration": 4337,
    "start_time": "2023-03-09T09:17:54.207Z"
   },
   {
    "duration": 10,
    "start_time": "2023-03-09T09:18:05.194Z"
   },
   {
    "duration": 4,
    "start_time": "2023-03-09T09:18:46.583Z"
   },
   {
    "duration": 4368,
    "start_time": "2023-03-09T09:18:47.367Z"
   },
   {
    "duration": 84,
    "start_time": "2023-03-09T09:18:54.398Z"
   },
   {
    "duration": 3,
    "start_time": "2023-03-09T09:23:12.621Z"
   },
   {
    "duration": 4853,
    "start_time": "2023-03-09T09:23:13.258Z"
   },
   {
    "duration": 3,
    "start_time": "2023-03-09T09:23:40.106Z"
   },
   {
    "duration": 4520,
    "start_time": "2023-03-09T09:23:42.306Z"
   },
   {
    "duration": 72,
    "start_time": "2023-03-09T09:30:49.206Z"
   },
   {
    "duration": 91,
    "start_time": "2023-03-09T09:31:23.743Z"
   },
   {
    "duration": 194,
    "start_time": "2023-03-09T09:44:32.245Z"
   },
   {
    "duration": 189,
    "start_time": "2023-03-09T09:45:34.709Z"
   },
   {
    "duration": 195,
    "start_time": "2023-03-09T09:45:44.357Z"
   },
   {
    "duration": 189,
    "start_time": "2023-03-09T10:57:00.201Z"
   },
   {
    "duration": 587,
    "start_time": "2023-03-10T06:53:25.372Z"
   },
   {
    "duration": 70,
    "start_time": "2023-03-10T06:53:25.966Z"
   },
   {
    "duration": 10,
    "start_time": "2023-03-10T06:53:26.048Z"
   },
   {
    "duration": 6020,
    "start_time": "2023-03-10T06:53:26.060Z"
   },
   {
    "duration": 113,
    "start_time": "2023-03-10T06:53:32.082Z"
   },
   {
    "duration": 269,
    "start_time": "2023-03-10T06:53:32.196Z"
   },
   {
    "duration": 241,
    "start_time": "2023-03-10T06:53:32.467Z"
   },
   {
    "duration": 5084,
    "start_time": "2023-03-10T06:53:32.712Z"
   }
  ],
  "kernelspec": {
   "display_name": "Python 3 (ipykernel)",
   "language": "python",
   "name": "python3"
  },
  "language_info": {
   "codemirror_mode": {
    "name": "ipython",
    "version": 3
   },
   "file_extension": ".py",
   "mimetype": "text/x-python",
   "name": "python",
   "nbconvert_exporter": "python",
   "pygments_lexer": "ipython3",
   "version": "3.9.5"
  },
  "toc": {
   "base_numbering": 1,
   "nav_menu": {},
   "number_sections": true,
   "sideBar": true,
   "skip_h1_title": true,
   "title_cell": "Table of Contents",
   "title_sidebar": "Contents",
   "toc_cell": false,
   "toc_position": {},
   "toc_section_display": true,
   "toc_window_display": false
  }
 },
 "nbformat": 4,
 "nbformat_minor": 5
}
